{
 "cells": [
  {
   "cell_type": "code",
   "execution_count": 1,
   "metadata": {},
   "outputs": [],
   "source": [
    "import torch\n",
    "import torch.nn as nn\n",
    "\n",
    "import numpy as np\n",
    "import pandas as pd\n",
    "\n",
    "import matplotlib.pyplot as plt\n",
    "%matplotlib inline"
   ]
  },
  {
   "cell_type": "code",
   "execution_count": 2,
   "metadata": {},
   "outputs": [],
   "source": [
    "DOWNLOAD_DATA = False\n",
    "UNZIP = False\n",
    "DELETE_DATA = False\n",
    "MAKE_DEV_FILE = False\n",
    "\n",
    "DEV_RECORD_COUNT = 150000"
   ]
  },
  {
   "cell_type": "code",
   "execution_count": 3,
   "metadata": {},
   "outputs": [],
   "source": [
    "if DOWNLOAD_DATA:\n",
    "    !kaggle competitions download -c new-york-city-taxi-fare-prediction"
   ]
  },
  {
   "cell_type": "code",
   "execution_count": 4,
   "metadata": {},
   "outputs": [],
   "source": [
    "if UNZIP:\n",
    "    !unzip train.csv.zip"
   ]
  },
  {
   "cell_type": "code",
   "execution_count": 5,
   "metadata": {},
   "outputs": [],
   "source": [
    "# We are just sampling across all time, which means it's possible\n",
    "# we aren't sampling from the same distribution as the tutorial. It's\n",
    "# clear that the centr of our fares is higher. The video uses 2010, I think.\n",
    "if MAKE_DEV_FILE:\n",
    "    import random\n",
    "    df = pd.read_csv('train.csv')\n",
    "    sample = df.sample(DEV_RECORD_COUNT, random_state=42)\n",
    "    sample.to_csv('dev.csv', index=False)\n",
    "    del sample\n",
    "    del df\n",
    "    df = pd.read_csv('dev.csv')\n",
    "else:\n",
    "    df = pd.read_csv('dev.csv')"
   ]
  },
  {
   "cell_type": "code",
   "execution_count": 6,
   "metadata": {},
   "outputs": [],
   "source": [
    "if DELETE_DATA:\n",
    "    !rm train.csv\n",
    "    !rm train.csv.zip"
   ]
  },
  {
   "cell_type": "code",
   "execution_count": 7,
   "metadata": {},
   "outputs": [
    {
     "data": {
      "text/html": [
       "<div>\n",
       "<style scoped>\n",
       "    .dataframe tbody tr th:only-of-type {\n",
       "        vertical-align: middle;\n",
       "    }\n",
       "\n",
       "    .dataframe tbody tr th {\n",
       "        vertical-align: top;\n",
       "    }\n",
       "\n",
       "    .dataframe thead th {\n",
       "        text-align: right;\n",
       "    }\n",
       "</style>\n",
       "<table border=\"1\" class=\"dataframe\">\n",
       "  <thead>\n",
       "    <tr style=\"text-align: right;\">\n",
       "      <th></th>\n",
       "      <th>key</th>\n",
       "      <th>fare_amount</th>\n",
       "      <th>pickup_datetime</th>\n",
       "      <th>pickup_longitude</th>\n",
       "      <th>pickup_latitude</th>\n",
       "      <th>dropoff_longitude</th>\n",
       "      <th>dropoff_latitude</th>\n",
       "      <th>passenger_count</th>\n",
       "    </tr>\n",
       "  </thead>\n",
       "  <tbody>\n",
       "    <tr>\n",
       "      <th>0</th>\n",
       "      <td>2010-01-16 20:06:00.000000168</td>\n",
       "      <td>3.3</td>\n",
       "      <td>2010-01-16 20:06:00 UTC</td>\n",
       "      <td>-73.953323</td>\n",
       "      <td>40.778532</td>\n",
       "      <td>-73.953375</td>\n",
       "      <td>40.772505</td>\n",
       "      <td>1</td>\n",
       "    </tr>\n",
       "    <tr>\n",
       "      <th>1</th>\n",
       "      <td>2010-09-22 23:21:00.00000065</td>\n",
       "      <td>6.5</td>\n",
       "      <td>2010-09-22 23:21:00 UTC</td>\n",
       "      <td>-73.985542</td>\n",
       "      <td>40.738333</td>\n",
       "      <td>-74.003350</td>\n",
       "      <td>40.738935</td>\n",
       "      <td>1</td>\n",
       "    </tr>\n",
       "    <tr>\n",
       "      <th>2</th>\n",
       "      <td>2013-10-17 18:40:14.0000001</td>\n",
       "      <td>5.0</td>\n",
       "      <td>2013-10-17 18:40:14 UTC</td>\n",
       "      <td>-73.999945</td>\n",
       "      <td>40.718097</td>\n",
       "      <td>-73.999239</td>\n",
       "      <td>40.723103</td>\n",
       "      <td>1</td>\n",
       "    </tr>\n",
       "    <tr>\n",
       "      <th>3</th>\n",
       "      <td>2015-06-09 19:39:42.0000009</td>\n",
       "      <td>40.5</td>\n",
       "      <td>2015-06-09 19:39:42 UTC</td>\n",
       "      <td>-73.974533</td>\n",
       "      <td>40.756237</td>\n",
       "      <td>-73.923149</td>\n",
       "      <td>40.867210</td>\n",
       "      <td>1</td>\n",
       "    </tr>\n",
       "    <tr>\n",
       "      <th>4</th>\n",
       "      <td>2012-05-01 07:16:59.0000001</td>\n",
       "      <td>7.7</td>\n",
       "      <td>2012-05-01 07:16:59 UTC</td>\n",
       "      <td>-73.952835</td>\n",
       "      <td>40.786351</td>\n",
       "      <td>-73.974022</td>\n",
       "      <td>40.762765</td>\n",
       "      <td>1</td>\n",
       "    </tr>\n",
       "  </tbody>\n",
       "</table>\n",
       "</div>"
      ],
      "text/plain": [
       "                             key  fare_amount          pickup_datetime  \\\n",
       "0  2010-01-16 20:06:00.000000168          3.3  2010-01-16 20:06:00 UTC   \n",
       "1   2010-09-22 23:21:00.00000065          6.5  2010-09-22 23:21:00 UTC   \n",
       "2    2013-10-17 18:40:14.0000001          5.0  2013-10-17 18:40:14 UTC   \n",
       "3    2015-06-09 19:39:42.0000009         40.5  2015-06-09 19:39:42 UTC   \n",
       "4    2012-05-01 07:16:59.0000001          7.7  2012-05-01 07:16:59 UTC   \n",
       "\n",
       "   pickup_longitude  pickup_latitude  dropoff_longitude  dropoff_latitude  \\\n",
       "0        -73.953323        40.778532         -73.953375         40.772505   \n",
       "1        -73.985542        40.738333         -74.003350         40.738935   \n",
       "2        -73.999945        40.718097         -73.999239         40.723103   \n",
       "3        -73.974533        40.756237         -73.923149         40.867210   \n",
       "4        -73.952835        40.786351         -73.974022         40.762765   \n",
       "\n",
       "   passenger_count  \n",
       "0                1  \n",
       "1                1  \n",
       "2                1  \n",
       "3                1  \n",
       "4                1  "
      ]
     },
     "execution_count": 7,
     "metadata": {},
     "output_type": "execute_result"
    }
   ],
   "source": [
    "df.head()"
   ]
  },
  {
   "cell_type": "code",
   "execution_count": 8,
   "metadata": {},
   "outputs": [
    {
     "data": {
      "text/html": [
       "<div>\n",
       "<style scoped>\n",
       "    .dataframe tbody tr th:only-of-type {\n",
       "        vertical-align: middle;\n",
       "    }\n",
       "\n",
       "    .dataframe tbody tr th {\n",
       "        vertical-align: top;\n",
       "    }\n",
       "\n",
       "    .dataframe thead th {\n",
       "        text-align: right;\n",
       "    }\n",
       "</style>\n",
       "<table border=\"1\" class=\"dataframe\">\n",
       "  <thead>\n",
       "    <tr style=\"text-align: right;\">\n",
       "      <th></th>\n",
       "      <th>fare_amount</th>\n",
       "      <th>pickup_longitude</th>\n",
       "      <th>pickup_latitude</th>\n",
       "      <th>dropoff_longitude</th>\n",
       "      <th>dropoff_latitude</th>\n",
       "      <th>passenger_count</th>\n",
       "    </tr>\n",
       "  </thead>\n",
       "  <tbody>\n",
       "    <tr>\n",
       "      <th>count</th>\n",
       "      <td>150000.000000</td>\n",
       "      <td>150000.000000</td>\n",
       "      <td>150000.000000</td>\n",
       "      <td>149999.000000</td>\n",
       "      <td>149999.000000</td>\n",
       "      <td>150000.000000</td>\n",
       "    </tr>\n",
       "    <tr>\n",
       "      <th>mean</th>\n",
       "      <td>11.295062</td>\n",
       "      <td>-72.504976</td>\n",
       "      <td>39.905469</td>\n",
       "      <td>-72.507915</td>\n",
       "      <td>39.894913</td>\n",
       "      <td>1.678553</td>\n",
       "    </tr>\n",
       "    <tr>\n",
       "      <th>std</th>\n",
       "      <td>9.651060</td>\n",
       "      <td>13.399632</td>\n",
       "      <td>10.900223</td>\n",
       "      <td>13.144519</td>\n",
       "      <td>13.620646</td>\n",
       "      <td>1.302309</td>\n",
       "    </tr>\n",
       "    <tr>\n",
       "      <th>min</th>\n",
       "      <td>-45.000000</td>\n",
       "      <td>-736.400000</td>\n",
       "      <td>-3430.761308</td>\n",
       "      <td>-90.239125</td>\n",
       "      <td>-3430.761308</td>\n",
       "      <td>0.000000</td>\n",
       "    </tr>\n",
       "    <tr>\n",
       "      <th>25%</th>\n",
       "      <td>6.000000</td>\n",
       "      <td>-73.992037</td>\n",
       "      <td>40.734880</td>\n",
       "      <td>-73.991462</td>\n",
       "      <td>40.734059</td>\n",
       "      <td>1.000000</td>\n",
       "    </tr>\n",
       "    <tr>\n",
       "      <th>50%</th>\n",
       "      <td>8.500000</td>\n",
       "      <td>-73.981802</td>\n",
       "      <td>40.752696</td>\n",
       "      <td>-73.980116</td>\n",
       "      <td>40.753115</td>\n",
       "      <td>1.000000</td>\n",
       "    </tr>\n",
       "    <tr>\n",
       "      <th>75%</th>\n",
       "      <td>12.500000</td>\n",
       "      <td>-73.967072</td>\n",
       "      <td>40.767190</td>\n",
       "      <td>-73.963763</td>\n",
       "      <td>40.767988</td>\n",
       "      <td>2.000000</td>\n",
       "    </tr>\n",
       "    <tr>\n",
       "      <th>max</th>\n",
       "      <td>227.000000</td>\n",
       "      <td>3061.872988</td>\n",
       "      <td>440.781892</td>\n",
       "      <td>3061.872988</td>\n",
       "      <td>407.000000</td>\n",
       "      <td>6.000000</td>\n",
       "    </tr>\n",
       "  </tbody>\n",
       "</table>\n",
       "</div>"
      ],
      "text/plain": [
       "         fare_amount  pickup_longitude  pickup_latitude  dropoff_longitude  \\\n",
       "count  150000.000000     150000.000000    150000.000000      149999.000000   \n",
       "mean       11.295062        -72.504976        39.905469         -72.507915   \n",
       "std         9.651060         13.399632        10.900223          13.144519   \n",
       "min       -45.000000       -736.400000     -3430.761308         -90.239125   \n",
       "25%         6.000000        -73.992037        40.734880         -73.991462   \n",
       "50%         8.500000        -73.981802        40.752696         -73.980116   \n",
       "75%        12.500000        -73.967072        40.767190         -73.963763   \n",
       "max       227.000000       3061.872988       440.781892        3061.872988   \n",
       "\n",
       "       dropoff_latitude  passenger_count  \n",
       "count     149999.000000    150000.000000  \n",
       "mean          39.894913         1.678553  \n",
       "std           13.620646         1.302309  \n",
       "min        -3430.761308         0.000000  \n",
       "25%           40.734059         1.000000  \n",
       "50%           40.753115         1.000000  \n",
       "75%           40.767988         2.000000  \n",
       "max          407.000000         6.000000  "
      ]
     },
     "execution_count": 8,
     "metadata": {},
     "output_type": "execute_result"
    }
   ],
   "source": [
    "df.describe()"
   ]
  },
  {
   "cell_type": "code",
   "execution_count": 9,
   "metadata": {},
   "outputs": [],
   "source": [
    "# To compute the distance between two corrdinates, we will use\n",
    "# the haversine formula. DO WE GET BETTER ACCURACY WITH STREET\n",
    "# DISTANCE? \n",
    "\n",
    "def haversine_distance(df, lat1, long1, lat2, long2):\n",
    "    AVG_RADIUS_EARTH = 6371\n",
    "    \n",
    "    phi1 = np.radians(df[lat1])\n",
    "    phi2 = np.radians(df[lat2])\n",
    "    \n",
    "    delta_phi = np.radians(df[lat2] - df[lat1])\n",
    "    delta_lambda = np.radians(df[long2] - df[long1])\n",
    "    \n",
    "    a = np.sin(delta_phi/2)**2 + np.cos(phi1)*np.cos(phi2)*np.sin(delta_lambda/2)**2\n",
    "    c = 2*np.arctan2(np.sqrt(a), np.sqrt(1-a))\n",
    "    d = AVG_RADIUS_EARTH*c\n",
    "    \n",
    "    return d"
   ]
  },
  {
   "cell_type": "code",
   "execution_count": 10,
   "metadata": {},
   "outputs": [],
   "source": [
    "df['distance_km'] = haversine_distance(df, 'pickup_latitude', \n",
    "                                       'pickup_longitude', \n",
    "                                       'dropoff_latitude',\n",
    "                                       'dropoff_longitude')"
   ]
  },
  {
   "cell_type": "code",
   "execution_count": 11,
   "metadata": {},
   "outputs": [],
   "source": [
    "df['pickup_datetime'] = pd.to_datetime(df['pickup_datetime'])"
   ]
  },
  {
   "cell_type": "code",
   "execution_count": 12,
   "metadata": {},
   "outputs": [],
   "source": [
    "df['edt_date'] = df['pickup_datetime'] - pd.Timedelta(hours=4)"
   ]
  },
  {
   "cell_type": "code",
   "execution_count": 13,
   "metadata": {},
   "outputs": [],
   "source": [
    "df['hour'] = df['edt_date'].dt.hour"
   ]
  },
  {
   "cell_type": "code",
   "execution_count": 14,
   "metadata": {},
   "outputs": [],
   "source": [
    "df['am_or_pm'] = df['hour'].apply(lambda x: 'am' if x < 12 else 'pm')"
   ]
  },
  {
   "cell_type": "code",
   "execution_count": 15,
   "metadata": {},
   "outputs": [],
   "source": [
    "df['weekday'] = df['edt_date'].dt.strftime('%a')"
   ]
  },
  {
   "cell_type": "code",
   "execution_count": 16,
   "metadata": {},
   "outputs": [
    {
     "data": {
      "text/html": [
       "<div>\n",
       "<style scoped>\n",
       "    .dataframe tbody tr th:only-of-type {\n",
       "        vertical-align: middle;\n",
       "    }\n",
       "\n",
       "    .dataframe tbody tr th {\n",
       "        vertical-align: top;\n",
       "    }\n",
       "\n",
       "    .dataframe thead th {\n",
       "        text-align: right;\n",
       "    }\n",
       "</style>\n",
       "<table border=\"1\" class=\"dataframe\">\n",
       "  <thead>\n",
       "    <tr style=\"text-align: right;\">\n",
       "      <th></th>\n",
       "      <th>key</th>\n",
       "      <th>fare_amount</th>\n",
       "      <th>pickup_datetime</th>\n",
       "      <th>pickup_longitude</th>\n",
       "      <th>pickup_latitude</th>\n",
       "      <th>dropoff_longitude</th>\n",
       "      <th>dropoff_latitude</th>\n",
       "      <th>passenger_count</th>\n",
       "      <th>distance_km</th>\n",
       "      <th>edt_date</th>\n",
       "      <th>hour</th>\n",
       "      <th>am_or_pm</th>\n",
       "      <th>weekday</th>\n",
       "    </tr>\n",
       "  </thead>\n",
       "  <tbody>\n",
       "    <tr>\n",
       "      <th>0</th>\n",
       "      <td>2010-01-16 20:06:00.000000168</td>\n",
       "      <td>3.3</td>\n",
       "      <td>2010-01-16 20:06:00+00:00</td>\n",
       "      <td>-73.953323</td>\n",
       "      <td>40.778532</td>\n",
       "      <td>-73.953375</td>\n",
       "      <td>40.772505</td>\n",
       "      <td>1</td>\n",
       "      <td>0.670186</td>\n",
       "      <td>2010-01-16 16:06:00+00:00</td>\n",
       "      <td>16</td>\n",
       "      <td>pm</td>\n",
       "      <td>Sat</td>\n",
       "    </tr>\n",
       "    <tr>\n",
       "      <th>1</th>\n",
       "      <td>2010-09-22 23:21:00.00000065</td>\n",
       "      <td>6.5</td>\n",
       "      <td>2010-09-22 23:21:00+00:00</td>\n",
       "      <td>-73.985542</td>\n",
       "      <td>40.738333</td>\n",
       "      <td>-74.003350</td>\n",
       "      <td>40.738935</td>\n",
       "      <td>1</td>\n",
       "      <td>1.501848</td>\n",
       "      <td>2010-09-22 19:21:00+00:00</td>\n",
       "      <td>19</td>\n",
       "      <td>pm</td>\n",
       "      <td>Wed</td>\n",
       "    </tr>\n",
       "    <tr>\n",
       "      <th>2</th>\n",
       "      <td>2013-10-17 18:40:14.0000001</td>\n",
       "      <td>5.0</td>\n",
       "      <td>2013-10-17 18:40:14+00:00</td>\n",
       "      <td>-73.999945</td>\n",
       "      <td>40.718097</td>\n",
       "      <td>-73.999239</td>\n",
       "      <td>40.723103</td>\n",
       "      <td>1</td>\n",
       "      <td>0.559813</td>\n",
       "      <td>2013-10-17 14:40:14+00:00</td>\n",
       "      <td>14</td>\n",
       "      <td>pm</td>\n",
       "      <td>Thu</td>\n",
       "    </tr>\n",
       "    <tr>\n",
       "      <th>3</th>\n",
       "      <td>2015-06-09 19:39:42.0000009</td>\n",
       "      <td>40.5</td>\n",
       "      <td>2015-06-09 19:39:42+00:00</td>\n",
       "      <td>-73.974533</td>\n",
       "      <td>40.756237</td>\n",
       "      <td>-73.923149</td>\n",
       "      <td>40.867210</td>\n",
       "      <td>1</td>\n",
       "      <td>13.075483</td>\n",
       "      <td>2015-06-09 15:39:42+00:00</td>\n",
       "      <td>15</td>\n",
       "      <td>pm</td>\n",
       "      <td>Tue</td>\n",
       "    </tr>\n",
       "    <tr>\n",
       "      <th>4</th>\n",
       "      <td>2012-05-01 07:16:59.0000001</td>\n",
       "      <td>7.7</td>\n",
       "      <td>2012-05-01 07:16:59+00:00</td>\n",
       "      <td>-73.952835</td>\n",
       "      <td>40.786351</td>\n",
       "      <td>-73.974022</td>\n",
       "      <td>40.762765</td>\n",
       "      <td>1</td>\n",
       "      <td>3.171938</td>\n",
       "      <td>2012-05-01 03:16:59+00:00</td>\n",
       "      <td>3</td>\n",
       "      <td>am</td>\n",
       "      <td>Tue</td>\n",
       "    </tr>\n",
       "  </tbody>\n",
       "</table>\n",
       "</div>"
      ],
      "text/plain": [
       "                             key  fare_amount           pickup_datetime  \\\n",
       "0  2010-01-16 20:06:00.000000168          3.3 2010-01-16 20:06:00+00:00   \n",
       "1   2010-09-22 23:21:00.00000065          6.5 2010-09-22 23:21:00+00:00   \n",
       "2    2013-10-17 18:40:14.0000001          5.0 2013-10-17 18:40:14+00:00   \n",
       "3    2015-06-09 19:39:42.0000009         40.5 2015-06-09 19:39:42+00:00   \n",
       "4    2012-05-01 07:16:59.0000001          7.7 2012-05-01 07:16:59+00:00   \n",
       "\n",
       "   pickup_longitude  pickup_latitude  dropoff_longitude  dropoff_latitude  \\\n",
       "0        -73.953323        40.778532         -73.953375         40.772505   \n",
       "1        -73.985542        40.738333         -74.003350         40.738935   \n",
       "2        -73.999945        40.718097         -73.999239         40.723103   \n",
       "3        -73.974533        40.756237         -73.923149         40.867210   \n",
       "4        -73.952835        40.786351         -73.974022         40.762765   \n",
       "\n",
       "   passenger_count  distance_km                  edt_date  hour am_or_pm  \\\n",
       "0                1     0.670186 2010-01-16 16:06:00+00:00    16       pm   \n",
       "1                1     1.501848 2010-09-22 19:21:00+00:00    19       pm   \n",
       "2                1     0.559813 2013-10-17 14:40:14+00:00    14       pm   \n",
       "3                1    13.075483 2015-06-09 15:39:42+00:00    15       pm   \n",
       "4                1     3.171938 2012-05-01 03:16:59+00:00     3       am   \n",
       "\n",
       "  weekday  \n",
       "0     Sat  \n",
       "1     Wed  \n",
       "2     Thu  \n",
       "3     Tue  \n",
       "4     Tue  "
      ]
     },
     "execution_count": 16,
     "metadata": {},
     "output_type": "execute_result"
    }
   ],
   "source": [
    "df.head()"
   ]
  },
  {
   "cell_type": "code",
   "execution_count": 17,
   "metadata": {},
   "outputs": [],
   "source": [
    "cat_cols = ['hour', 'am_or_pm', 'weekday']\n",
    "cont_cols = ['pickup_latitude', 'dropoff_latitude', \n",
    "             'pickup_longitude', 'dropoff_longitude',\n",
    "             'distance_km', 'passenger_count']\n",
    "y_col = ['fare_amount']"
   ]
  },
  {
   "cell_type": "code",
   "execution_count": 18,
   "metadata": {},
   "outputs": [],
   "source": [
    "for cat in cat_cols:\n",
    "    df[cat] = df[cat].astype('category')"
   ]
  },
  {
   "cell_type": "code",
   "execution_count": 19,
   "metadata": {},
   "outputs": [],
   "source": [
    "cats = np.stack([\n",
    "    df[col].cat.codes.values for col in cat_cols\n",
    "], axis=1)"
   ]
  },
  {
   "cell_type": "code",
   "execution_count": 20,
   "metadata": {},
   "outputs": [],
   "source": [
    "cats = torch.tensor(cats, dtype=torch.int64)"
   ]
  },
  {
   "cell_type": "code",
   "execution_count": 21,
   "metadata": {},
   "outputs": [],
   "source": [
    "conts = np.stack([\n",
    "    df[col].values for col in cont_cols\n",
    "], axis=1)"
   ]
  },
  {
   "cell_type": "code",
   "execution_count": 22,
   "metadata": {},
   "outputs": [],
   "source": [
    "conts = torch.tensor(conts, dtype=torch.float)"
   ]
  },
  {
   "cell_type": "code",
   "execution_count": 23,
   "metadata": {},
   "outputs": [
    {
     "data": {
      "text/plain": [
       "tensor([[ 40.7785,  40.7725, -73.9533, -73.9534,   0.6702,   1.0000],\n",
       "        [ 40.7383,  40.7389, -73.9855, -74.0033,   1.5018,   1.0000],\n",
       "        [ 40.7181,  40.7231, -73.9999, -73.9992,   0.5598,   1.0000],\n",
       "        ...,\n",
       "        [ 40.7480,  40.7551, -73.9851, -73.9942,   1.0969,   1.0000],\n",
       "        [ 40.7645,  40.7952, -73.9715, -73.9695,   3.4115,   1.0000],\n",
       "        [ 40.7584,  40.7329, -73.9742, -73.9904,   3.1482,   5.0000]])"
      ]
     },
     "execution_count": 23,
     "metadata": {},
     "output_type": "execute_result"
    }
   ],
   "source": [
    "conts"
   ]
  },
  {
   "cell_type": "code",
   "execution_count": 24,
   "metadata": {},
   "outputs": [],
   "source": [
    "y = torch.tensor(df[y_col].values, dtype=torch.float).reshape(-1, 1)"
   ]
  },
  {
   "cell_type": "code",
   "execution_count": 25,
   "metadata": {},
   "outputs": [
    {
     "data": {
      "text/plain": [
       "tensor([[3.3000],\n",
       "        [6.5000],\n",
       "        [5.0000],\n",
       "        ...,\n",
       "        [9.5000],\n",
       "        [8.5000],\n",
       "        [8.5000]])"
      ]
     },
     "execution_count": 25,
     "metadata": {},
     "output_type": "execute_result"
    }
   ],
   "source": [
    "y"
   ]
  },
  {
   "cell_type": "code",
   "execution_count": 26,
   "metadata": {},
   "outputs": [
    {
     "data": {
      "text/plain": [
       "(torch.Size([150000, 3]), torch.Size([150000, 6]), torch.Size([150000, 1]))"
      ]
     },
     "execution_count": 26,
     "metadata": {},
     "output_type": "execute_result"
    }
   ],
   "source": [
    "cats.shape, conts.shape, y.shape"
   ]
  },
  {
   "cell_type": "code",
   "execution_count": 27,
   "metadata": {},
   "outputs": [],
   "source": [
    "category_sizes = [\n",
    "    len(df[col].cat.categories) for col in cat_cols\n",
    "]"
   ]
  },
  {
   "cell_type": "code",
   "execution_count": 28,
   "metadata": {},
   "outputs": [
    {
     "data": {
      "text/plain": [
       "[24, 2, 7]"
      ]
     },
     "execution_count": 28,
     "metadata": {},
     "output_type": "execute_result"
    }
   ],
   "source": [
    "category_sizes"
   ]
  },
  {
   "cell_type": "code",
   "execution_count": 29,
   "metadata": {},
   "outputs": [],
   "source": [
    "# Instead of one hot encodings, we are using embeddings. This is a strange\n",
    "# thing to do, but I'll cope\n",
    "emb_sizes = [(size, min(50, size+1)//2) for size in category_sizes]"
   ]
  },
  {
   "cell_type": "code",
   "execution_count": 30,
   "metadata": {},
   "outputs": [
    {
     "data": {
      "text/plain": [
       "[(24, 12), (2, 1), (7, 4)]"
      ]
     },
     "execution_count": 30,
     "metadata": {},
     "output_type": "execute_result"
    }
   ],
   "source": [
    "emb_sizes"
   ]
  },
  {
   "cell_type": "code",
   "execution_count": 31,
   "metadata": {},
   "outputs": [],
   "source": [
    "# Walking through how the embeddings work\n",
    "selfembeds = nn.ModuleList([\n",
    "    nn.Embedding(n_embeddings, dim) \n",
    "    for n_embeddings, dim \n",
    "    in emb_sizes\n",
    "])"
   ]
  },
  {
   "cell_type": "code",
   "execution_count": 32,
   "metadata": {},
   "outputs": [
    {
     "data": {
      "text/plain": [
       "ModuleList(\n",
       "  (0): Embedding(24, 12)\n",
       "  (1): Embedding(2, 1)\n",
       "  (2): Embedding(7, 4)\n",
       ")"
      ]
     },
     "execution_count": 32,
     "metadata": {},
     "output_type": "execute_result"
    }
   ],
   "source": [
    "selfembeds"
   ]
  },
  {
   "cell_type": "code",
   "execution_count": 33,
   "metadata": {},
   "outputs": [],
   "source": [
    "catz = cats[:4]\n",
    "embeddingz = []\n",
    "\n",
    "# Embedding outputs\n",
    "for i, e in enumerate(selfembeds):\n",
    "    embeddingz.append(e(catz[:, i]))"
   ]
  },
  {
   "cell_type": "code",
   "execution_count": 34,
   "metadata": {},
   "outputs": [
    {
     "data": {
      "text/plain": [
       "[tensor([[ 1.4001, -0.8155, -0.3597, -0.3141, -1.7330, -0.1059, -1.0053,  0.3955,\n",
       "           0.3389, -1.1147,  0.4868, -1.1228],\n",
       "         [ 0.6758, -0.3011, -1.0026,  0.6504,  0.4235,  0.8122,  0.1853,  0.3083,\n",
       "           0.3190,  1.5734, -0.0991,  0.6279],\n",
       "         [-0.1113, -0.4950, -0.4202,  1.1434, -0.7137,  0.0040,  2.6959, -0.3960,\n",
       "           0.2350, -0.1021,  0.0480,  0.2229],\n",
       "         [ 2.0057, -0.0611,  0.6814, -0.6629, -1.0588, -1.5903,  2.4518,  0.0339,\n",
       "          -1.6719, -0.4054,  1.1310, -0.2357]], grad_fn=<EmbeddingBackward>),\n",
       " tensor([[1.3289],\n",
       "         [1.3289],\n",
       "         [1.3289],\n",
       "         [1.3289]], grad_fn=<EmbeddingBackward>),\n",
       " tensor([[ 1.2575, -1.4768,  1.5360,  0.2432],\n",
       "         [-1.0507,  0.1469,  0.6436,  0.0988],\n",
       "         [-2.7572,  0.4683,  0.1305,  0.9588],\n",
       "         [-0.4994, -0.4432,  0.1864, -0.2781]], grad_fn=<EmbeddingBackward>)]"
      ]
     },
     "execution_count": 34,
     "metadata": {},
     "output_type": "execute_result"
    }
   ],
   "source": [
    "embeddingz"
   ]
  },
  {
   "cell_type": "code",
   "execution_count": 35,
   "metadata": {},
   "outputs": [],
   "source": [
    "z = torch.cat(embeddingz, 1)"
   ]
  },
  {
   "cell_type": "code",
   "execution_count": 36,
   "metadata": {},
   "outputs": [
    {
     "data": {
      "text/plain": [
       "tensor([[ 1.4001, -0.8155, -0.3597, -0.3141, -1.7330, -0.1059, -1.0053,  0.3955,\n",
       "          0.3389, -1.1147,  0.4868, -1.1228,  1.3289,  1.2575, -1.4768,  1.5360,\n",
       "          0.2432],\n",
       "        [ 0.6758, -0.3011, -1.0026,  0.6504,  0.4235,  0.8122,  0.1853,  0.3083,\n",
       "          0.3190,  1.5734, -0.0991,  0.6279,  1.3289, -1.0507,  0.1469,  0.6436,\n",
       "          0.0988],\n",
       "        [-0.1113, -0.4950, -0.4202,  1.1434, -0.7137,  0.0040,  2.6959, -0.3960,\n",
       "          0.2350, -0.1021,  0.0480,  0.2229,  1.3289, -2.7572,  0.4683,  0.1305,\n",
       "          0.9588],\n",
       "        [ 2.0057, -0.0611,  0.6814, -0.6629, -1.0588, -1.5903,  2.4518,  0.0339,\n",
       "         -1.6719, -0.4054,  1.1310, -0.2357,  1.3289, -0.4994, -0.4432,  0.1864,\n",
       "         -0.2781]], grad_fn=<CatBackward>)"
      ]
     },
     "execution_count": 36,
     "metadata": {},
     "output_type": "execute_result"
    }
   ],
   "source": [
    "z"
   ]
  },
  {
   "cell_type": "code",
   "execution_count": 37,
   "metadata": {},
   "outputs": [],
   "source": [
    "selfembeddingdrop = nn.Dropout(0.4)"
   ]
  },
  {
   "cell_type": "code",
   "execution_count": 38,
   "metadata": {},
   "outputs": [],
   "source": [
    "z = selfembeddingdrop(z)"
   ]
  },
  {
   "cell_type": "code",
   "execution_count": 39,
   "metadata": {},
   "outputs": [
    {
     "data": {
      "text/plain": [
       "tensor([[ 0.0000, -1.3591, -0.0000, -0.5235, -0.0000, -0.0000, -0.0000,  0.6592,\n",
       "          0.5649, -0.0000,  0.0000, -1.8714,  2.2148,  0.0000, -0.0000,  2.5600,\n",
       "          0.4054],\n",
       "        [ 1.1264, -0.0000, -0.0000,  1.0839,  0.7058,  0.0000,  0.3088,  0.5138,\n",
       "          0.5317,  2.6223, -0.1652,  1.0465,  0.0000, -0.0000,  0.2448,  0.0000,\n",
       "          0.1647],\n",
       "        [-0.0000, -0.0000, -0.7004,  1.9056, -0.0000,  0.0066,  0.0000, -0.6600,\n",
       "          0.0000, -0.1702,  0.0000,  0.0000,  0.0000, -4.5953,  0.0000,  0.0000,\n",
       "          1.5980],\n",
       "        [ 3.3428, -0.1018,  0.0000, -0.0000, -0.0000, -2.6505,  4.0864,  0.0565,\n",
       "         -0.0000, -0.6757,  0.0000, -0.3928,  0.0000, -0.0000, -0.7387,  0.3107,\n",
       "         -0.0000]], grad_fn=<MulBackward0>)"
      ]
     },
     "execution_count": 39,
     "metadata": {},
     "output_type": "execute_result"
    }
   ],
   "source": [
    "z"
   ]
  },
  {
   "cell_type": "code",
   "execution_count": 40,
   "metadata": {},
   "outputs": [],
   "source": [
    "class TabularModel(nn.Module):\n",
    "    def __init__(self, \n",
    "                 embedding_sizes,\n",
    "                 n_cont,\n",
    "                 out_size,\n",
    "                 layers,\n",
    "                 dropout_prob=0.5):\n",
    "        super().__init__()\n",
    "        \n",
    "        self.embeds = nn.ModuleList([\n",
    "            nn.Embedding(ni, nf) for ni, nf in embedding_sizes\n",
    "        ])\n",
    "        self.emb_drop = nn.Dropout(dropout_prob)\n",
    "        self.bn_cont = nn.BatchNorm1d(n_cont)\n",
    "        \n",
    "        layerlist = []\n",
    "        n_embs = sum([nf for ni, nf in embedding_sizes])\n",
    "        n_in = n_embs + n_cont\n",
    "        \n",
    "        # layers\n",
    "        for i in layers:\n",
    "            layerlist.append(nn.Linear(n_in, i))\n",
    "            layerlist.append(nn.ReLU(inplace=True))\n",
    "            layerlist.append(nn.BatchNorm1d(i))\n",
    "            layerlist.append(nn.Dropout(dropout_prob))\n",
    "            n_in = i\n",
    "        layerlist.append(nn.Linear(layers[-1], out_size))\n",
    "        \n",
    "        self.layers = nn.Sequential(*layerlist)\n",
    "    \n",
    "    def forward(self, x_cat, x_cont):\n",
    "        embeddings = []\n",
    "        for i, e in enumerate(self.embeds):\n",
    "            embeddings.append(e(x_cat[:, i]))\n",
    "        x = torch.cat(embeddings, 1)\n",
    "        x = self.emb_drop(x)\n",
    "        \n",
    "        x_cont = self.bn_cont(x_cont)\n",
    "        x = torch.cat([x, x_cont], 1)\n",
    "        x = self.layers(x)\n",
    "        return x"
   ]
  },
  {
   "cell_type": "code",
   "execution_count": 41,
   "metadata": {},
   "outputs": [],
   "source": [
    "torch.manual_seed(33)\n",
    "\n",
    "model = TabularModel(emb_sizes, conts.shape[1], 1, [200, 100], dropout_prob=.4)"
   ]
  },
  {
   "cell_type": "code",
   "execution_count": 42,
   "metadata": {},
   "outputs": [
    {
     "data": {
      "text/plain": [
       "TabularModel(\n",
       "  (embeds): ModuleList(\n",
       "    (0): Embedding(24, 12)\n",
       "    (1): Embedding(2, 1)\n",
       "    (2): Embedding(7, 4)\n",
       "  )\n",
       "  (emb_drop): Dropout(p=0.4)\n",
       "  (bn_cont): BatchNorm1d(6, eps=1e-05, momentum=0.1, affine=True, track_running_stats=True)\n",
       "  (layers): Sequential(\n",
       "    (0): Linear(in_features=23, out_features=200, bias=True)\n",
       "    (1): ReLU(inplace)\n",
       "    (2): BatchNorm1d(200, eps=1e-05, momentum=0.1, affine=True, track_running_stats=True)\n",
       "    (3): Dropout(p=0.4)\n",
       "    (4): Linear(in_features=200, out_features=100, bias=True)\n",
       "    (5): ReLU(inplace)\n",
       "    (6): BatchNorm1d(100, eps=1e-05, momentum=0.1, affine=True, track_running_stats=True)\n",
       "    (7): Dropout(p=0.4)\n",
       "    (8): Linear(in_features=100, out_features=1, bias=True)\n",
       "  )\n",
       ")"
      ]
     },
     "execution_count": 42,
     "metadata": {},
     "output_type": "execute_result"
    }
   ],
   "source": [
    "model"
   ]
  },
  {
   "cell_type": "code",
   "execution_count": 43,
   "metadata": {},
   "outputs": [],
   "source": [
    "batch_size = 60000\n",
    "test_size = int(batch_size*0.2)"
   ]
  },
  {
   "cell_type": "code",
   "execution_count": 44,
   "metadata": {},
   "outputs": [],
   "source": [
    "cat_train = cats[:batch_size - test_size]\n",
    "cat_test = cats[batch_size-test_size:batch_size]\n",
    "con_train = conts[:batch_size-test_size]\n",
    "con_test = conts[batch_size-test_size:batch_size]"
   ]
  },
  {
   "cell_type": "code",
   "execution_count": 45,
   "metadata": {},
   "outputs": [],
   "source": [
    "y_train = y[:batch_size-test_size]\n",
    "y_test = y[batch_size-test_size:batch_size]"
   ]
  },
  {
   "cell_type": "code",
   "execution_count": 46,
   "metadata": {},
   "outputs": [
    {
     "data": {
      "text/plain": [
       "(48000, 48000)"
      ]
     },
     "execution_count": 46,
     "metadata": {},
     "output_type": "execute_result"
    }
   ],
   "source": [
    "len(cat_train), len(con_train)"
   ]
  },
  {
   "cell_type": "code",
   "execution_count": 47,
   "metadata": {},
   "outputs": [
    {
     "data": {
      "text/plain": [
       "12000"
      ]
     },
     "execution_count": 47,
     "metadata": {},
     "output_type": "execute_result"
    }
   ],
   "source": [
    "len(cat_test)"
   ]
  },
  {
   "cell_type": "code",
   "execution_count": 48,
   "metadata": {},
   "outputs": [
    {
     "name": "stdout",
     "output_type": "stream",
     "text": [
      "epoch:   0 loss: 14.6914\n",
      "epoch:  10 loss: 14.6382\n",
      "epoch:  20 loss: 14.5754\n",
      "epoch:  30 loss: 14.4905\n",
      "epoch:  40 loss: 14.3814\n",
      "epoch:  50 loss: 14.2463\n",
      "epoch:  60 loss: 14.0732\n",
      "epoch:  70 loss: 13.8750\n",
      "epoch:  80 loss: 13.6345\n",
      "epoch:  90 loss: 13.3761\n",
      "epoch: 100 loss: 13.0822\n",
      "epoch: 110 loss: 12.7580\n",
      "epoch: 120 loss: 12.4264\n",
      "epoch: 130 loss: 12.0848\n",
      "epoch: 140 loss: 11.7455\n",
      "epoch: 150 loss: 11.3834\n",
      "epoch: 160 loss: 11.0455\n",
      "epoch: 170 loss: 10.7431\n",
      "epoch: 180 loss: 10.4440\n",
      "epoch: 190 loss: 10.2089\n",
      "epoch: 200 loss: 10.0100\n",
      "epoch: 210 loss: 9.8507\n",
      "epoch: 220 loss: 9.7410\n",
      "epoch: 230 loss: 9.6467\n",
      "epoch: 240 loss: 9.5648\n",
      "epoch: 250 loss: 9.4422\n",
      "epoch: 260 loss: 9.0317\n",
      "epoch: 270 loss: 8.0576\n",
      "epoch: 280 loss: 7.2180\n",
      "epoch: 290 loss: 7.0893\n",
      "epoch: 300 loss: 6.5993\n",
      "epoch: 310 loss: 6.1860\n",
      "epoch: 320 loss: 5.9745\n",
      "epoch: 330 loss: 5.8254\n",
      "epoch: 340 loss: 5.8058\n",
      "epoch: 350 loss: 5.8207\n",
      "epoch: 360 loss: 5.7086\n",
      "epoch: 370 loss: 5.6943\n",
      "epoch: 380 loss: 5.6444\n",
      "epoch: 390 loss: 5.6467\n",
      "epoch: 400 loss: 5.6134\n",
      "epoch: 410 loss: 5.6225\n",
      "epoch: 420 loss: 5.6224\n",
      "epoch: 430 loss: 5.6027\n",
      "epoch: 440 loss: 5.6035\n",
      "epoch: 450 loss: 5.5631\n",
      "epoch: 460 loss: 5.5346\n",
      "epoch: 470 loss: 5.4938\n",
      "epoch: 480 loss: 5.5471\n",
      "epoch: 490 loss: 5.4837\n",
      "epoch: 500 loss: 5.5026\n",
      "epoch: 510 loss: 5.4402\n",
      "epoch: 520 loss: 5.4641\n",
      "epoch: 530 loss: 5.4899\n",
      "epoch: 540 loss: 5.4922\n",
      "epoch: 550 loss: 5.4363\n",
      "epoch: 560 loss: 5.4731\n",
      "epoch: 570 loss: 5.4355\n",
      "epoch: 580 loss: 5.4256\n",
      "epoch: 590 loss: 5.4645\n",
      "Training took 0.45853376388549805 minutes\n"
     ]
    }
   ],
   "source": [
    "import time\n",
    "\n",
    "device = torch.device('cuda:0' if torch.cuda.is_available() else 'CPU')\n",
    "model = model.to(device)\n",
    "criterion = nn.MSELoss()\n",
    "optimizer = torch.optim.Adam(model.parameters(), lr=0.001)\n",
    "\n",
    "cat_train = cat_train.to(device)\n",
    "con_train = con_train.to(device)\n",
    "y_train = y_train.to(device)\n",
    "\n",
    "start_time = time.time()\n",
    "\n",
    "epochs = 600\n",
    "losses = list()\n",
    "\n",
    "for i in range(epochs):\n",
    "    y_pred = model(cat_train, con_train)\n",
    "    loss = torch.sqrt(criterion(y_pred, y_train))\n",
    "    losses.append(loss)\n",
    "    \n",
    "    if i % 10 == 0:\n",
    "        print(f'epoch: {i:3d} loss: {loss:.4f}')\n",
    "        \n",
    "    optimizer.zero_grad()\n",
    "    loss.backward()\n",
    "    optimizer.step()\n",
    "    \n",
    "duration = time.time() - start_time\n",
    "\n",
    "print(f'Training took {duration/60} minutes')"
   ]
  },
  {
   "cell_type": "code",
   "execution_count": 49,
   "metadata": {},
   "outputs": [
    {
     "data": {
      "text/plain": [
       "[<matplotlib.lines.Line2D at 0x7f9f94395a20>]"
      ]
     },
     "execution_count": 49,
     "metadata": {},
     "output_type": "execute_result"
    },
    {
     "data": {
      "image/png": "[encoded data removed]",
      "text/plain": [
       "<Figure size 432x288 with 1 Axes>"
      ]
     },
     "metadata": {
      "needs_background": "light"
     },
     "output_type": "display_data"
    }
   ],
   "source": [
    "plt.plot(range(epochs), losses)"
   ]
  },
  {
   "cell_type": "code",
   "execution_count": null,
   "metadata": {},
   "outputs": [],
   "source": []
  }
 ],
 "metadata": {
  "kernelspec": {
   "display_name": "Python 3",
   "language": "python",
   "name": "python3"
  },
  "language_info": {
   "codemirror_mode": {
    "name": "ipython",
    "version": 3
   },
   "file_extension": ".py",
   "mimetype": "text/x-python",
   "name": "python",
   "nbconvert_exporter": "python",
   "pygments_lexer": "ipython3",
   "version": "3.7.3"
  }
 },
 "nbformat": 4,
 "nbformat_minor": 2
}
