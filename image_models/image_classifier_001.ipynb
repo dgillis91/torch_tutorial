{
 "cells": [
  {
   "cell_type": "markdown",
   "metadata": {},
   "source": [
    "# MNIST Image Classification"
   ]
  },
  {
   "cell_type": "markdown",
   "metadata": {},
   "source": [
    "## Introduction"
   ]
  },
  {
   "cell_type": "markdown",
   "metadata": {},
   "source": [
    "I'm going to start with MNIST, because it's a dataset that I'm\n",
    "massively familiar with that. On top of that, it has a continuous\n",
    "distribution, so once I get comfortable with implementing a simple\n",
    "convolutional neural network, I'll develop an auto encoder, and a \n",
    "variational auto encoder. \n",
    "\n",
    "For this example, we will do a simple convolutional neural network\n",
    "in torch."
   ]
  },
  {
   "cell_type": "markdown",
   "metadata": {},
   "source": [
    "## TorchVision"
   ]
  },
  {
   "cell_type": "markdown",
   "metadata": {},
   "source": [
    "The [torchvision](https://pytorch.org/docs/stable/torchvision/index.html) \n",
    "package contains utilities for many tasks in computer vision. \n",
    "These include transformations, loading toy data sets, and popular model\n",
    "architectures. In this tutorial, I don't intend to use the last. I'll just \n",
    "[load](http://127.0.0.1:8888/?token=755449bfdb2fd6b486d94057b9759d4c877749c8b9a71482)\n",
    "MNIST (a popular dataset of images of numbers) and play about with it. \n",
    "\n",
    "In addition, we will start by just training the model without transformations. While\n",
    "this tutorial focuses on models in torch, it should be fun to see how transforms impact\n",
    "MNIST. Up front, I'll hypothesize that any gains will be very much marginal. The MNIST\n",
    "data set is pretty free of noise when preprocessed properly. Worth noting, there are \n",
    "plenty of datasets to play with, including QMNIST, which is not processed. "
   ]
  },
  {
   "cell_type": "code",
   "execution_count": 1,
   "metadata": {},
   "outputs": [],
   "source": [
    "import torch\n",
    "import torchvision\n",
    "import torchvision.transforms as transforms\n",
    "from torchvision.datasets import MNIST\n",
    "\n",
    "import numpy as np\n",
    "import matplotlib.pyplot as plt"
   ]
  },
  {
   "cell_type": "markdown",
   "metadata": {},
   "source": [
    "## Loading and Preprocessing"
   ]
  },
  {
   "cell_type": "markdown",
   "metadata": {},
   "source": [
    "As noted, we won't do any elaborate preprocessing. Instead, we just load the data\n",
    "and normalize.\n",
    "\n",
    "The image datasets are loaded as PILImages. We need to load these as tensors, and\n",
    "normalize them. For this, we can apply `transformation`s from `torchvision`.\n",
    "These \n",
    "[transforms](https://pytorch.org/docs/stable/torchvision/transforms.html#torchvision-transforms)\n",
    "are similar to the sklearn transforms, but are specifically for images. There is\n",
    "also a funcitonal module that allows for more custom control. \n",
    "\n",
    "Users can call the `Compose()` method to build pipelines of transformations. We \n",
    "will just be casting the images to tensors, then centering the data ourselves. \n",
    "This way, we don't have to make any underlying assumptions about the distribution \n",
    "of the data. Worth noting that `Normalize` always expects an iterable. If you need\n",
    "to normalize single channel images, you must pass an iterable with one element. \n",
    "\n",
    "Note that mnist comes with a single (gray) channel of 28x28 pixels."
   ]
  },
  {
   "cell_type": "code",
   "execution_count": 2,
   "metadata": {
    "scrolled": true
   },
   "outputs": [],
   "source": [
    "transform = transforms.Compose([\n",
    "    transforms.ToTensor()\n",
    "])\n",
    "trainset = MNIST(\n",
    "    root='./data/', train=True, \n",
    "    download=True, transform=transform\n",
    ")"
   ]
  },
  {
   "cell_type": "markdown",
   "metadata": {},
   "source": [
    "As we can see, it's possible to add transforms to a datasets transforms after the\n",
    "dataset has been constructed. This follows logically from how `Compose` is created.\n",
    "The `Compose` class is [defined](https://github.com/pytorch/vision/blob/19315e313511fead3597e23075552255d07fcb2a/torchvision/transforms/transforms.py#L43)\n",
    "with:\n",
    "\n",
    "```\n",
    "def __init__(self, transforms: list):\n",
    "    '''\n",
    "    Args:\n",
    "        transforms (list of ``Transform`` objects): list of transforms to compose.\n",
    "    '''\n",
    "    self.transforms = transforms\n",
    "```\n",
    "\n",
    "Because of this, we are free to append transformations to this object. The trainset\n",
    "that uses this will reference that object. \n",
    "\n",
    "So, in this case, we compute the mean and standard deviation so we can normalize the\n",
    "images with the parameters that define their distribution. We then `append` the \n",
    "created transformation to the list. "
   ]
  },
  {
   "cell_type": "code",
   "execution_count": 3,
   "metadata": {},
   "outputs": [],
   "source": [
    "mu = trainset.data.float().mean() / 255\n",
    "sigma = trainset.data.float().std() / 255\n",
    "\n",
    "transform.transforms.append(\n",
    "    transforms.Normalize(\n",
    "        mean=(mu,), std=(sigma,)\n",
    "    )\n",
    ")"
   ]
  },
  {
   "cell_type": "code",
   "execution_count": 4,
   "metadata": {},
   "outputs": [
    {
     "data": {
      "text/plain": [
       "Dataset MNIST\n",
       "    Number of datapoints: 60000\n",
       "    Root location: ./data/\n",
       "    Split: Train\n",
       "    StandardTransform\n",
       "Transform: Compose(\n",
       "               ToTensor()\n",
       "               Normalize(mean=(tensor(0.1307),), std=(tensor(0.3081),))\n",
       "           )"
      ]
     },
     "execution_count": 4,
     "metadata": {},
     "output_type": "execute_result"
    }
   ],
   "source": [
    "trainset"
   ]
  },
  {
   "cell_type": "markdown",
   "metadata": {},
   "source": [
    "The `DataLoader` class is used to . . . well . . . load data. And it's\n",
    "pretty freakin' swell. First, it is multithreaded, and you can specify\n",
    "the worker count. That's really very brilliant, and much simpler (and\n",
    "more elegant) than the paradigm of using generators. \n",
    "\n",
    "The `__init__` \n",
    "[method](https://github.com/pytorch/pytorch/blob/10c456417ce49cb5bfad8aba2bd7e3a23a83aef2/torch/utils/data/dataloader.py#L120) \n",
    "takes in many arguments, but one is the dataset, in this case `trainset`.\n",
    "We can then create a python iterator over that dataset. All of the\n",
    "transformations will happen from the `transforms` in the dataset. That is,\n",
    "the dataset handles applying the transform when you call \n",
    "`__getitem__(self, idx)`."
   ]
  },
  {
   "cell_type": "code",
   "execution_count": 5,
   "metadata": {},
   "outputs": [],
   "source": [
    "BATCH_SIZE = 64\n",
    "trainloader = torch.utils.data.DataLoader(\n",
    "    trainset, batch_size=BATCH_SIZE,\n",
    "    shuffle=True, num_workers=2\n",
    ")\n",
    "targets = np.array([x for x in range(10)])"
   ]
  },
  {
   "cell_type": "code",
   "execution_count": 6,
   "metadata": {},
   "outputs": [
    {
     "data": {
      "text/plain": [
       "torch.Size([64, 1, 28, 28])"
      ]
     },
     "execution_count": 6,
     "metadata": {},
     "output_type": "execute_result"
    }
   ],
   "source": [
    "dataiter = iter(trainloader)\n",
    "im, lab = dataiter.next()\n",
    "\n",
    "im.size()"
   ]
  },
  {
   "cell_type": "code",
   "execution_count": 7,
   "metadata": {},
   "outputs": [
    {
     "name": "stderr",
     "output_type": "stream",
     "text": [
      "Clipping input data to the valid range for imshow with RGB data ([0..1] for floats or [0..255] for integers).\n"
     ]
    },
    {
     "data": {
      "image/png": "[encoded data removed]",
      "text/plain": [
       "<Figure size 432x288 with 1 Axes>"
      ]
     },
     "metadata": {
      "needs_background": "light"
     },
     "output_type": "display_data"
    },
    {
     "name": "stdout",
     "output_type": "stream",
     "text": [
      "4 2 3 9 7\n"
     ]
    }
   ],
   "source": [
    "SHOW_COUNT = 5\n",
    "%matplotlib inline\n",
    "def image_show(image):\n",
    "    np_image = image.numpy()\n",
    "    plt.imshow(np.transpose(np_image, (1, 2, 0)))\n",
    "    plt.show()\n",
    "    \n",
    "image_show(\n",
    "    torchvision.utils.make_grid(im[0:SHOW_COUNT, :, :, :])\n",
    ")\n",
    "print(' '.join(str(d) for d in targets[lab[:SHOW_COUNT]]))"
   ]
  },
  {
   "cell_type": "markdown",
   "metadata": {},
   "source": [
    "Worth testing at this point is whether adding a transformation will affect \n",
    "the data loader. Based on reading the source, the dataset in the data loader\n",
    "is just a reference. So, if we add a transform, the dataloader will just load\n",
    "data with the transform applied.\n",
    "\n",
    "This does, in fact, work. In addition, it appears that the transforms are\n",
    "applied in the order of the list. So, we have to call `insert` to append to\n",
    "the front of the list.\n",
    "\n",
    "Details on the `RandomRotation` transform \n",
    "[here](https://pytorch.org/docs/stable/torchvision/transforms.html#torchvision.transforms.RandomRotation)."
   ]
  },
  {
   "cell_type": "code",
   "execution_count": 8,
   "metadata": {},
   "outputs": [
    {
     "name": "stderr",
     "output_type": "stream",
     "text": [
      "Clipping input data to the valid range for imshow with RGB data ([0..1] for floats or [0..255] for integers).\n"
     ]
    },
    {
     "data": {
      "image/png": "[encoded data removed]",
      "text/plain": [
       "<Figure size 432x288 with 1 Axes>"
      ]
     },
     "metadata": {
      "needs_background": "light"
     },
     "output_type": "display_data"
    }
   ],
   "source": [
    "transform.transforms.insert(\n",
    "    0, transforms.RandomRotation(degrees=(45, 90))\n",
    ")\n",
    "# Get a new iterator\n",
    "dataiter = iter(trainloader)\n",
    "im, lab = dataiter.next()\n",
    "\n",
    "image_show(\n",
    "    torchvision.utils.make_grid(im[0:SHOW_COUNT, :, :, :])\n",
    ")"
   ]
  },
  {
   "cell_type": "markdown",
   "metadata": {},
   "source": [
    "Before moving on, let's reset the transforms. That is, remove the\n",
    "rotation. "
   ]
  },
  {
   "cell_type": "code",
   "execution_count": 9,
   "metadata": {},
   "outputs": [
    {
     "data": {
      "text/plain": [
       "RandomRotation(degrees=(45, 90), resample=False, expand=False)"
      ]
     },
     "execution_count": 9,
     "metadata": {},
     "output_type": "execute_result"
    }
   ],
   "source": [
    "transform.transforms.pop(0)"
   ]
  },
  {
   "cell_type": "markdown",
   "metadata": {},
   "source": [
    "## Network Topology"
   ]
  },
  {
   "cell_type": "markdown",
   "metadata": {},
   "source": [
    "Now that we've gotten sufficiently side tracked with transforms, let's\n",
    "start making and training a model. "
   ]
  },
  {
   "cell_type": "code",
   "execution_count": 10,
   "metadata": {},
   "outputs": [],
   "source": [
    "import torch.nn as nn\n",
    "import torch.nn.functional as F\n",
    "\n",
    "class Network(nn.Module):\n",
    "    def __init__(self, input_channels: int):\n",
    "        super(Network, self).__init__()\n",
    "        self.convolution_1 = nn.Conv2d(\n",
    "            in_channels=input_channels, out_channels=20,\n",
    "            kernel_size=5, stride=1\n",
    "        )\n",
    "        self.max_pooling = nn.MaxPool2d(2, 2)\n",
    "        self.convolution_2 = nn.Conv2d(\n",
    "            in_channels=20, out_channels=50,\n",
    "            kernel_size=5, stride=1\n",
    "        )\n",
    "        # The math to compute this input dim is relatively\n",
    "        # simple. The formulas for H_out in both the pooling\n",
    "        # and the Conv are available on their respective pages.\n",
    "        self.dense_1 = nn.Linear(4 * 4 * 50, 500)\n",
    "        self.dense_2 = nn.Linear(500, 10)\n",
    "        \n",
    "    def forward(self, x):\n",
    "        x = self.max_pooling(F.relu(self.convolution_1(x)))\n",
    "        x = self.max_pooling(F.relu(self.convolution_2(x)))\n",
    "        # Flatten\n",
    "        x = x.view(-1, 4 * 4 * 50)\n",
    "        x = F.relu(self.dense_1(x))\n",
    "        x = F.log_softmax(self.dense_2(x), dim=1)\n",
    "        return x"
   ]
  },
  {
   "cell_type": "code",
   "execution_count": 11,
   "metadata": {},
   "outputs": [],
   "source": [
    "device = torch.device('cuda' if torch.cuda.is_available() else 'cpu')\n",
    "model = Network(input_channels=1).to(device)"
   ]
  },
  {
   "cell_type": "code",
   "execution_count": 12,
   "metadata": {},
   "outputs": [],
   "source": [
    "import torch.optim as optim\n",
    "\n",
    "loss_function = nn.CrossEntropyLoss()\n",
    "optimizer = optim.SGD(model.parameters(), lr=0.001, momentum=0.9)"
   ]
  },
  {
   "cell_type": "code",
   "execution_count": 13,
   "metadata": {},
   "outputs": [
    {
     "name": "stdout",
     "output_type": "stream",
     "text": [
      "[Epoch 1]\n",
      "\t[Batch 100] loss: 2.151835\n",
      "\t[Batch 200] loss: 1.009818\n",
      "\t[Batch 300] loss: 0.431635\n",
      "\t[Batch 400] loss: 0.339871\n",
      "\t[Batch 500] loss: 0.304205\n",
      "\t[Batch 600] loss: 0.267869\n",
      "\t[Batch 700] loss: 0.223482\n",
      "\t[Batch 800] loss: 0.205626\n",
      "\t[Batch 900] loss: 0.193634\n",
      "[Epoch 2]\n",
      "\t[Batch 100] loss: 0.172349\n",
      "\t[Batch 200] loss: 0.156784\n",
      "\t[Batch 300] loss: 0.154322\n",
      "\t[Batch 400] loss: 0.131674\n",
      "\t[Batch 500] loss: 0.137392\n",
      "\t[Batch 600] loss: 0.119321\n",
      "\t[Batch 700] loss: 0.118868\n",
      "\t[Batch 800] loss: 0.119763\n",
      "\t[Batch 900] loss: 0.117267\n",
      "[Epoch 3]\n",
      "\t[Batch 100] loss: 0.110301\n",
      "\t[Batch 200] loss: 0.092885\n",
      "\t[Batch 300] loss: 0.084225\n",
      "\t[Batch 400] loss: 0.091718\n",
      "\t[Batch 500] loss: 0.087457\n",
      "\t[Batch 600] loss: 0.108706\n",
      "\t[Batch 700] loss: 0.084171\n",
      "\t[Batch 800] loss: 0.087646\n",
      "\t[Batch 900] loss: 0.085900\n",
      "[Epoch 4]\n",
      "\t[Batch 100] loss: 0.071751\n",
      "\t[Batch 200] loss: 0.079711\n",
      "\t[Batch 300] loss: 0.071695\n",
      "\t[Batch 400] loss: 0.064752\n",
      "\t[Batch 500] loss: 0.065191\n",
      "\t[Batch 600] loss: 0.071208\n",
      "\t[Batch 700] loss: 0.086191\n",
      "\t[Batch 800] loss: 0.073638\n",
      "\t[Batch 900] loss: 0.068894\n",
      "[Epoch 5]\n",
      "\t[Batch 100] loss: 0.058363\n",
      "\t[Batch 200] loss: 0.062213\n",
      "\t[Batch 300] loss: 0.071813\n",
      "\t[Batch 400] loss: 0.060177\n",
      "\t[Batch 500] loss: 0.061962\n",
      "\t[Batch 600] loss: 0.054979\n",
      "\t[Batch 700] loss: 0.058390\n",
      "\t[Batch 800] loss: 0.054431\n",
      "\t[Batch 900] loss: 0.055123\n",
      "[Epoch 6]\n",
      "\t[Batch 100] loss: 0.058780\n",
      "\t[Batch 200] loss: 0.057405\n",
      "\t[Batch 300] loss: 0.052450\n",
      "\t[Batch 400] loss: 0.043092\n",
      "\t[Batch 500] loss: 0.044049\n",
      "\t[Batch 600] loss: 0.052552\n",
      "\t[Batch 700] loss: 0.058733\n",
      "\t[Batch 800] loss: 0.052133\n",
      "\t[Batch 900] loss: 0.056218\n",
      "[Epoch 7]\n",
      "\t[Batch 100] loss: 0.045564\n",
      "\t[Batch 200] loss: 0.044471\n",
      "\t[Batch 300] loss: 0.050020\n",
      "\t[Batch 400] loss: 0.043305\n",
      "\t[Batch 500] loss: 0.047923\n",
      "\t[Batch 600] loss: 0.040157\n",
      "\t[Batch 700] loss: 0.045603\n",
      "\t[Batch 800] loss: 0.047155\n",
      "\t[Batch 900] loss: 0.049056\n",
      "[Epoch 8]\n",
      "\t[Batch 100] loss: 0.041704\n",
      "\t[Batch 200] loss: 0.037833\n",
      "\t[Batch 300] loss: 0.043382\n",
      "\t[Batch 400] loss: 0.037514\n",
      "\t[Batch 500] loss: 0.045393\n",
      "\t[Batch 600] loss: 0.042005\n",
      "\t[Batch 700] loss: 0.038111\n",
      "\t[Batch 800] loss: 0.040730\n",
      "\t[Batch 900] loss: 0.041600\n",
      "[Epoch 9]\n",
      "\t[Batch 100] loss: 0.037490\n",
      "\t[Batch 200] loss: 0.036495\n",
      "\t[Batch 300] loss: 0.035839\n",
      "\t[Batch 400] loss: 0.037796\n",
      "\t[Batch 500] loss: 0.040652\n",
      "\t[Batch 600] loss: 0.038292\n",
      "\t[Batch 700] loss: 0.034645\n",
      "\t[Batch 800] loss: 0.035233\n",
      "\t[Batch 900] loss: 0.038360\n",
      "[Epoch 10]\n",
      "\t[Batch 100] loss: 0.032843\n",
      "\t[Batch 200] loss: 0.035894\n",
      "\t[Batch 300] loss: 0.032688\n",
      "\t[Batch 400] loss: 0.038312\n",
      "\t[Batch 500] loss: 0.032358\n",
      "\t[Batch 600] loss: 0.035461\n",
      "\t[Batch 700] loss: 0.039224\n",
      "\t[Batch 800] loss: 0.032917\n",
      "\t[Batch 900] loss: 0.032369\n"
     ]
    }
   ],
   "source": [
    "EPOCH_COUNT = 10\n",
    "STEPS_BETWEEN_PRINT = 100\n",
    "\n",
    "for epoch_index in range(EPOCH_COUNT):\n",
    "    print(f'[Epoch {epoch_index + 1}]')\n",
    "    running_loss = 0.0\n",
    "    for batch_index, data in enumerate(trainloader, 0):\n",
    "        inputs, labels = data[0].to(device), data[1].to(device)\n",
    "        optimizer.zero_grad()\n",
    "        outputs = model(inputs)\n",
    "        loss = loss_function(outputs, labels)\n",
    "        loss.backward()\n",
    "        optimizer.step()\n",
    "        running_loss += loss.item()\n",
    "        if batch_index % STEPS_BETWEEN_PRINT == STEPS_BETWEEN_PRINT - 1:\n",
    "            print('\\t[Batch {}] loss: {:3f}'.format(\n",
    "                batch_index + 1,\n",
    "                running_loss / STEPS_BETWEEN_PRINT\n",
    "            ))\n",
    "            running_loss = 0.0"
   ]
  },
  {
   "cell_type": "code",
   "execution_count": 14,
   "metadata": {},
   "outputs": [],
   "source": [
    "testset = MNIST(\n",
    "    root='./data', train=False,\n",
    "    download=True, transform=transform\n",
    ")\n",
    "testloader = torch.utils.data.DataLoader(\n",
    "    testset, batch_size=BATCH_SIZE,\n",
    "    shuffle=False, num_workers=2\n",
    ")"
   ]
  },
  {
   "cell_type": "markdown",
   "metadata": {},
   "source": [
    "## Test"
   ]
  },
  {
   "cell_type": "markdown",
   "metadata": {},
   "source": [
    "We can write a simple bit of code to test the train and validation data. \n",
    "It's easy to see that we overfit the data slightly. There are a few \n",
    "solutions to this. One is to use rotations. Because I haven't done \n",
    "this before, I'm going to try it and see what we get. The others are\n",
    "to train for less time or use dropout."
   ]
  },
  {
   "cell_type": "code",
   "execution_count": 15,
   "metadata": {},
   "outputs": [],
   "source": [
    "def test(model, device, loader, loss_fn):\n",
    "    model.eval()\n",
    "    loss = 0.0\n",
    "    correct = 0\n",
    "    with torch.no_grad():\n",
    "        for data, target in loader:\n",
    "            data, target = data.to(device), target.to(device)\n",
    "            output = model(data)\n",
    "            loss += loss_fn(output, target).item()\n",
    "            predictions = output.argmax(dim=1, keepdim=True)\n",
    "            correct += predictions.eq(target.view_as(predictions)).sum().item()\n",
    "    loss /= len(loader.dataset)\n",
    "    accuracy = (correct * 100.0) / len(loader.dataset)\n",
    "    return loss, accuracy"
   ]
  },
  {
   "cell_type": "code",
   "execution_count": 16,
   "metadata": {},
   "outputs": [],
   "source": [
    "train_loss, train_acc = test(model, device, trainloader, loss_function)\n",
    "test_loss, test_acc = test(model, device, testloader, loss_function)"
   ]
  },
  {
   "cell_type": "code",
   "execution_count": 17,
   "metadata": {},
   "outputs": [
    {
     "name": "stdout",
     "output_type": "stream",
     "text": [
      "[+] Train Accuracy: 99.180000\n",
      "[+] Test Accuracy: 98.740000\n",
      "[+] Train Loss: 0.000440\n",
      "[+] Test Loss: 0.000582\n"
     ]
    }
   ],
   "source": [
    "print('[+] Train Accuracy: {:3f}'.format(train_acc))\n",
    "print('[+] Test Accuracy: {:3f}'.format(test_acc))\n",
    "print('[+] Train Loss: {:3f}'.format(train_loss))\n",
    "print('[+] Test Loss: {:3f}'.format(test_loss))"
   ]
  },
  {
   "cell_type": "markdown",
   "metadata": {},
   "source": [
    "## Rotations"
   ]
  },
  {
   "cell_type": "markdown",
   "metadata": {},
   "source": [
    "Running this test, it *appears* to be the case that this is no longer\n",
    "overfitting. However, the model is not converging as quickly as the\n",
    "previous model. In addition, it appears that the loss has saturated\n",
    "by the tenth epoch. Beyond training performance, the model is less\n",
    "accurate.\n",
    "\n",
    "It's likely we could get this model to converge further with some\n",
    "tricks. It's also possible that this could be as effective with\n",
    "dropout. Last, this isn't *really* scientific testing. That would\n",
    "require cross validation and parameter tuning, at least."
   ]
  },
  {
   "cell_type": "code",
   "execution_count": 18,
   "metadata": {},
   "outputs": [
    {
     "name": "stdout",
     "output_type": "stream",
     "text": [
      "[Epoch 1]\n",
      "\t[Batch 100] loss: 2.262417\n",
      "\t[Batch 200] loss: 2.023241\n",
      "\t[Batch 300] loss: 1.418731\n",
      "\t[Batch 400] loss: 1.080674\n",
      "\t[Batch 500] loss: 0.908943\n",
      "\t[Batch 600] loss: 0.752846\n",
      "\t[Batch 700] loss: 0.653675\n",
      "\t[Batch 800] loss: 0.580217\n",
      "\t[Batch 900] loss: 0.522114\n",
      "[Epoch 2]\n",
      "\t[Batch 100] loss: 0.466770\n",
      "\t[Batch 200] loss: 0.424602\n",
      "\t[Batch 300] loss: 0.385040\n",
      "\t[Batch 400] loss: 0.362543\n",
      "\t[Batch 500] loss: 0.344893\n",
      "\t[Batch 600] loss: 0.347121\n",
      "\t[Batch 700] loss: 0.329367\n",
      "\t[Batch 800] loss: 0.296890\n",
      "\t[Batch 900] loss: 0.276901\n",
      "[Epoch 3]\n",
      "\t[Batch 100] loss: 0.276767\n",
      "\t[Batch 200] loss: 0.257866\n",
      "\t[Batch 300] loss: 0.261731\n",
      "\t[Batch 400] loss: 0.258422\n",
      "\t[Batch 500] loss: 0.246492\n",
      "\t[Batch 600] loss: 0.229922\n",
      "\t[Batch 700] loss: 0.230676\n",
      "\t[Batch 800] loss: 0.249894\n",
      "\t[Batch 900] loss: 0.220754\n",
      "[Epoch 4]\n",
      "\t[Batch 100] loss: 0.221599\n",
      "\t[Batch 200] loss: 0.205200\n",
      "\t[Batch 300] loss: 0.212181\n",
      "\t[Batch 400] loss: 0.196220\n",
      "\t[Batch 500] loss: 0.195676\n",
      "\t[Batch 600] loss: 0.189597\n",
      "\t[Batch 700] loss: 0.173565\n",
      "\t[Batch 800] loss: 0.201926\n",
      "\t[Batch 900] loss: 0.175823\n",
      "[Epoch 5]\n",
      "\t[Batch 100] loss: 0.190995\n",
      "\t[Batch 200] loss: 0.166068\n",
      "\t[Batch 300] loss: 0.187727\n",
      "\t[Batch 400] loss: 0.186798\n",
      "\t[Batch 500] loss: 0.166177\n",
      "\t[Batch 600] loss: 0.167446\n",
      "\t[Batch 700] loss: 0.166621\n",
      "\t[Batch 800] loss: 0.150979\n",
      "\t[Batch 900] loss: 0.160662\n",
      "[Epoch 6]\n",
      "\t[Batch 100] loss: 0.162347\n",
      "\t[Batch 200] loss: 0.157259\n",
      "\t[Batch 300] loss: 0.151848\n",
      "\t[Batch 400] loss: 0.149220\n",
      "\t[Batch 500] loss: 0.143452\n",
      "\t[Batch 600] loss: 0.156250\n",
      "\t[Batch 700] loss: 0.146305\n",
      "\t[Batch 800] loss: 0.150660\n",
      "\t[Batch 900] loss: 0.140348\n",
      "[Epoch 7]\n",
      "\t[Batch 100] loss: 0.136477\n",
      "\t[Batch 200] loss: 0.138244\n",
      "\t[Batch 300] loss: 0.128887\n",
      "\t[Batch 400] loss: 0.138875\n",
      "\t[Batch 500] loss: 0.140926\n",
      "\t[Batch 600] loss: 0.133358\n",
      "\t[Batch 700] loss: 0.130088\n",
      "\t[Batch 800] loss: 0.127976\n",
      "\t[Batch 900] loss: 0.119902\n",
      "[Epoch 8]\n",
      "\t[Batch 100] loss: 0.130720\n",
      "\t[Batch 200] loss: 0.132559\n",
      "\t[Batch 300] loss: 0.130458\n",
      "\t[Batch 400] loss: 0.130988\n",
      "\t[Batch 500] loss: 0.120579\n",
      "\t[Batch 600] loss: 0.126489\n",
      "\t[Batch 700] loss: 0.116832\n",
      "\t[Batch 800] loss: 0.114624\n",
      "\t[Batch 900] loss: 0.111038\n",
      "[Epoch 9]\n",
      "\t[Batch 100] loss: 0.116368\n",
      "\t[Batch 200] loss: 0.113034\n",
      "\t[Batch 300] loss: 0.132078\n",
      "\t[Batch 400] loss: 0.115418\n",
      "\t[Batch 500] loss: 0.113831\n",
      "\t[Batch 600] loss: 0.115616\n",
      "\t[Batch 700] loss: 0.114684\n",
      "\t[Batch 800] loss: 0.116749\n",
      "\t[Batch 900] loss: 0.095554\n",
      "[Epoch 10]\n",
      "\t[Batch 100] loss: 0.103456\n",
      "\t[Batch 200] loss: 0.114125\n",
      "\t[Batch 300] loss: 0.108829\n",
      "\t[Batch 400] loss: 0.105013\n",
      "\t[Batch 500] loss: 0.105596\n",
      "\t[Batch 600] loss: 0.114437\n",
      "\t[Batch 700] loss: 0.105443\n",
      "\t[Batch 800] loss: 0.098190\n",
      "\t[Batch 900] loss: 0.098757\n",
      "[+] Train Accuracy: 96.970000\n",
      "[+] Test Accuracy: 97.050000\n",
      "[+] Train Loss: 0.001521\n",
      "[+] Test Loss: 0.001477\n"
     ]
    }
   ],
   "source": [
    "# Also, this code isn't very modular. That's worth fixing. \n",
    "transform.transforms.insert(\n",
    "    0, transforms.RandomRotation(degrees=(-90, 90))\n",
    ")\n",
    "\n",
    "model = Network(input_channels=1).to(device)\n",
    "\n",
    "loss_function = nn.CrossEntropyLoss()\n",
    "optimizer = optim.SGD(model.parameters(), lr=0.001, momentum=0.9)\n",
    "\n",
    "EPOCH_COUNT = 10\n",
    "STEPS_BETWEEN_PRINT = 100\n",
    "\n",
    "for epoch_index in range(EPOCH_COUNT):\n",
    "    print(f'[Epoch {epoch_index + 1}]')\n",
    "    running_loss = 0.0\n",
    "    for batch_index, data in enumerate(trainloader, 0):\n",
    "        inputs, labels = data[0].to(device), data[1].to(device)\n",
    "        optimizer.zero_grad()\n",
    "        outputs = model(inputs)\n",
    "        loss = loss_function(outputs, labels)\n",
    "        loss.backward()\n",
    "        optimizer.step()\n",
    "        running_loss += loss.item()\n",
    "        if batch_index % STEPS_BETWEEN_PRINT == STEPS_BETWEEN_PRINT - 1:\n",
    "            print('\\t[Batch {}] loss: {:3f}'.format(\n",
    "                batch_index + 1,\n",
    "                running_loss / STEPS_BETWEEN_PRINT\n",
    "            ))\n",
    "            running_loss = 0.0\n",
    "            \n",
    "train_loss, train_acc = test(model, device, trainloader, loss_function)\n",
    "test_loss, test_acc = test(model, device, testloader, loss_function)\n",
    "\n",
    "print('[+] Train Accuracy: {:3f}'.format(train_acc))\n",
    "print('[+] Test Accuracy: {:3f}'.format(test_acc))\n",
    "print('[+] Train Loss: {:3f}'.format(train_loss))\n",
    "print('[+] Test Loss: {:3f}'.format(test_loss))"
   ]
  }
 ],
 "metadata": {
  "kernelspec": {
   "display_name": "Python 3",
   "language": "python",
   "name": "python3"
  },
  "language_info": {
   "codemirror_mode": {
    "name": "ipython",
    "version": 3
   },
   "file_extension": ".py",
   "mimetype": "text/x-python",
   "name": "python",
   "nbconvert_exporter": "python",
   "pygments_lexer": "ipython3",
   "version": "3.7.4"
  }
 },
 "nbformat": 4,
 "nbformat_minor": 2
}
