{
 "cells": [
  {
   "cell_type": "markdown",
   "metadata": {},
   "source": [
    "# MNIST Image Classification"
   ]
  },
  {
   "cell_type": "markdown",
   "metadata": {},
   "source": [
    "## Introduction"
   ]
  },
  {
   "cell_type": "markdown",
   "metadata": {},
   "source": [
    "I'm going to start with MNIST, because it's a dataset that I'm\n",
    "massively familiar with that. On top of that, it has a continuous\n",
    "distribution, so once I get comfortable with implementing a simple\n",
    "convolutional neural network, I'll develop an auto encoder, and a \n",
    "variational auto encoder. \n",
    "\n",
    "For this example, we will do a simple convolutional neural network\n",
    "in torch."
   ]
  },
  {
   "cell_type": "markdown",
   "metadata": {},
   "source": [
    "## TorchVision"
   ]
  },
  {
   "cell_type": "markdown",
   "metadata": {},
   "source": [
    "The [torchvision](https://pytorch.org/docs/stable/torchvision/index.html) \n",
    "package contains utilities for many tasks in computer vision. \n",
    "These include transformations, loading toy data sets, and popular model\n",
    "architectures. In this tutorial, I don't intend to use the last. I'll just \n",
    "[load](http://127.0.0.1:8888/?token=755449bfdb2fd6b486d94057b9759d4c877749c8b9a71482)\n",
    "MNIST (a popular dataset of images of numbers) and play about with it. \n",
    "\n",
    "In addition, we will start by just training the model without transformations. While\n",
    "this tutorial focuses on models in torch, it should be fun to see how transforms impact\n",
    "MNIST. Up front, I'll hypothesize that any gains will be very much marginal. The MNIST\n",
    "data set is pretty free of noise when preprocessed properly. Worth noting, there are \n",
    "plenty of datasets to play with, including QMNIST, which is not processed. "
   ]
  },
  {
   "cell_type": "code",
   "execution_count": 1,
   "metadata": {},
   "outputs": [],
   "source": [
    "import torch\n",
    "import torchvision\n",
    "import torchvision.transforms as transforms\n",
    "from torchvision.datasets import MNIST\n",
    "\n",
    "import numpy as np\n",
    "import matplotlib.pyplot as plt"
   ]
  },
  {
   "cell_type": "markdown",
   "metadata": {},
   "source": [
    "## Loading and Preprocessing"
   ]
  },
  {
   "cell_type": "markdown",
   "metadata": {},
   "source": [
    "As noted, we won't do any elaborate preprocessing. Instead, we just load the data\n",
    "and normalize.\n",
    "\n",
    "The image datasets are loaded as PILImages. We need to load these as tensors, and\n",
    "normalize them. For this, we can apply `transformation`s from `torchvision`.\n",
    "These \n",
    "[transforms](https://pytorch.org/docs/stable/torchvision/transforms.html#torchvision-transforms)\n",
    "are similar to the sklearn transforms, but are specifically for images. There is\n",
    "also a funcitonal module that allows for more custom control. \n",
    "\n",
    "Users can call the `Compose()` method to build pipelines of transformations. We \n",
    "will just be casting the images to tensors, then centering the data ourselves. \n",
    "This way, we don't have to make any underlying assumptions about the distribution \n",
    "of the data. Worth noting that `Normalize` always expects an iterable. If you need\n",
    "to normalize single channel images, you must pass an iterable with one element. \n",
    "\n",
    "Note that mnist comes with a single (gray) channel of 28x28 pixels."
   ]
  },
  {
   "cell_type": "code",
   "execution_count": 2,
   "metadata": {
    "scrolled": true
   },
   "outputs": [],
   "source": [
    "transform = transforms.Compose([\n",
    "    transforms.ToTensor()\n",
    "])\n",
    "trainset = MNIST(\n",
    "    root='./data/', train=True, \n",
    "    download=True, transform=transform\n",
    ")"
   ]
  },
  {
   "cell_type": "markdown",
   "metadata": {},
   "source": [
    "As we can see, it's possible to add transforms to a datasets transforms after the\n",
    "dataset has been constructed. This follows logically from how `Compose` is created.\n",
    "The `Compose` class is [defined](https://github.com/pytorch/vision/blob/19315e313511fead3597e23075552255d07fcb2a/torchvision/transforms/transforms.py#L43)\n",
    "with:\n",
    "\n",
    "```\n",
    "def __init__(self, transforms: list):\n",
    "    '''\n",
    "    Args:\n",
    "        transforms (list of ``Transform`` objects): list of transforms to compose.\n",
    "    '''\n",
    "    self.transforms = transforms\n",
    "```\n",
    "\n",
    "Because of this, we are free to append transformations to this object. The trainset\n",
    "that uses this will reference that object. \n",
    "\n",
    "So, in this case, we compute the mean and standard deviation so we can normalize the\n",
    "images with the parameters that define their distribution. We then `append` the \n",
    "created transformation to the list. "
   ]
  },
  {
   "cell_type": "code",
   "execution_count": 3,
   "metadata": {},
   "outputs": [],
   "source": [
    "mu = trainset.data.float().mean() / 255\n",
    "sigma = trainset.data.float().std() / 255\n",
    "\n",
    "transform.transforms.append(\n",
    "    transforms.Normalize(\n",
    "        mean=(mu,), std=(sigma,)\n",
    "    )\n",
    ")"
   ]
  },
  {
   "cell_type": "code",
   "execution_count": 4,
   "metadata": {},
   "outputs": [
    {
     "data": {
      "text/plain": [
       "Dataset MNIST\n",
       "    Number of datapoints: 60000\n",
       "    Root location: ./data/\n",
       "    Split: Train\n",
       "    StandardTransform\n",
       "Transform: Compose(\n",
       "               ToTensor()\n",
       "               Normalize(mean=(tensor(0.1307),), std=(tensor(0.3081),))\n",
       "           )"
      ]
     },
     "execution_count": 4,
     "metadata": {},
     "output_type": "execute_result"
    }
   ],
   "source": [
    "trainset"
   ]
  },
  {
   "cell_type": "markdown",
   "metadata": {},
   "source": [
    "The `DataLoader` class is used to . . . well . . . load data. And it's\n",
    "pretty freakin' swell. First, it is multithreaded, and you can specify\n",
    "the worker count. That's really very brilliant, and much simpler (and\n",
    "more elegant) than the paradigm of using generators. \n",
    "\n",
    "The `__init__` \n",
    "[method](https://github.com/pytorch/pytorch/blob/10c456417ce49cb5bfad8aba2bd7e3a23a83aef2/torch/utils/data/dataloader.py#L120) \n",
    "takes in many arguments, but one is the dataset, in this case `trainset`.\n",
    "We can then create a python iterator over that dataset. All of the\n",
    "transformations will happen from the `transforms` in the dataset. That is,\n",
    "the dataset handles applying the transform when you call \n",
    "`__getitem__(self, idx)`."
   ]
  },
  {
   "cell_type": "code",
   "execution_count": 5,
   "metadata": {},
   "outputs": [],
   "source": [
    "BATCH_SIZE = 64\n",
    "trainloader = torch.utils.data.DataLoader(\n",
    "    trainset, batch_size=BATCH_SIZE,\n",
    "    shuffle=True, num_workers=2\n",
    ")\n",
    "targets = np.array([x for x in range(10)])"
   ]
  },
  {
   "cell_type": "code",
   "execution_count": 6,
   "metadata": {},
   "outputs": [
    {
     "data": {
      "text/plain": [
       "torch.Size([64, 1, 28, 28])"
      ]
     },
     "execution_count": 6,
     "metadata": {},
     "output_type": "execute_result"
    }
   ],
   "source": [
    "dataiter = iter(trainloader)\n",
    "im, lab = dataiter.next()\n",
    "\n",
    "im.size()"
   ]
  },
  {
   "cell_type": "code",
   "execution_count": 7,
   "metadata": {},
   "outputs": [
    {
     "name": "stderr",
     "output_type": "stream",
     "text": [
      "Clipping input data to the valid range for imshow with RGB data ([0..1] for floats or [0..255] for integers).\n"
     ]
    },
    {
     "data": {
      "image/png": "[encoded data removed]",
      "text/plain": [
       "<Figure size 432x288 with 1 Axes>"
      ]
     },
     "metadata": {
      "needs_background": "light"
     },
     "output_type": "display_data"
    },
    {
     "name": "stdout",
     "output_type": "stream",
     "text": [
      "9 1 6 5 4\n"
     ]
    }
   ],
   "source": [
    "SHOW_COUNT = 5\n",
    "%matplotlib inline\n",
    "def image_show(image):\n",
    "    np_image = image.numpy()\n",
    "    plt.imshow(np.transpose(np_image, (1, 2, 0)))\n",
    "    plt.show()\n",
    "    \n",
    "image_show(\n",
    "    torchvision.utils.make_grid(im[0:SHOW_COUNT, :, :, :])\n",
    ")\n",
    "print(' '.join(str(d) for d in targets[lab[:SHOW_COUNT]]))"
   ]
  },
  {
   "cell_type": "markdown",
   "metadata": {},
   "source": [
    "Worth testing at this point is whether adding a transformation will affect \n",
    "the data loader. Based on reading the source, the dataset in the data loader\n",
    "is just a reference. So, if we add a transform, the dataloader will just load\n",
    "data with the transform applied.\n",
    "\n",
    "This does, in fact, work. In addition, it appears that the transforms are\n",
    "applied in the order of the list. So, we have to call `insert` to append to\n",
    "the front of the list.\n",
    "\n",
    "Details on the `RandomRotation` transform \n",
    "[here](https://pytorch.org/docs/stable/torchvision/transforms.html#torchvision.transforms.RandomRotation)."
   ]
  },
  {
   "cell_type": "code",
   "execution_count": 8,
   "metadata": {},
   "outputs": [
    {
     "name": "stderr",
     "output_type": "stream",
     "text": [
      "Clipping input data to the valid range for imshow with RGB data ([0..1] for floats or [0..255] for integers).\n"
     ]
    },
    {
     "data": {
      "image/png": "[encoded data removed]",
      "text/plain": [
       "<Figure size 432x288 with 1 Axes>"
      ]
     },
     "metadata": {
      "needs_background": "light"
     },
     "output_type": "display_data"
    }
   ],
   "source": [
    "transform.transforms.insert(\n",
    "    0, transforms.RandomRotation(degrees=(45, 90))\n",
    ")\n",
    "# Get a new iterator\n",
    "dataiter = iter(trainloader)\n",
    "im, lab = dataiter.next()\n",
    "\n",
    "image_show(\n",
    "    torchvision.utils.make_grid(im[0:SHOW_COUNT, :, :, :])\n",
    ")"
   ]
  },
  {
   "cell_type": "markdown",
   "metadata": {},
   "source": [
    "Before moving on, let's reset the transforms. That is, remove the\n",
    "rotation. "
   ]
  },
  {
   "cell_type": "code",
   "execution_count": 9,
   "metadata": {},
   "outputs": [
    {
     "data": {
      "text/plain": [
       "RandomRotation(degrees=(45, 90), resample=False, expand=False)"
      ]
     },
     "execution_count": 9,
     "metadata": {},
     "output_type": "execute_result"
    }
   ],
   "source": [
    "transform.transforms.pop(0)"
   ]
  },
  {
   "cell_type": "markdown",
   "metadata": {},
   "source": [
    "## Network Topology"
   ]
  },
  {
   "cell_type": "markdown",
   "metadata": {},
   "source": [
    "Now that we've gotten sufficiently side tracked with transforms, let's\n",
    "start making and training a model. "
   ]
  },
  {
   "cell_type": "code",
   "execution_count": 10,
   "metadata": {},
   "outputs": [],
   "source": [
    "import torch.nn as nn\n",
    "import torch.nn.functional as F\n",
    "\n",
    "class Network(nn.Module):\n",
    "    def __init__(self, input_channels: int):\n",
    "        super(Network, self).__init__()\n",
    "        self.convolution_1 = nn.Conv2d(\n",
    "            in_channels=input_channels, out_channels=20,\n",
    "            kernel_size=5, stride=1\n",
    "        )\n",
    "        self.max_pooling = nn.MaxPool2d(2, 2)\n",
    "        self.convolution_2 = nn.Conv2d(\n",
    "            in_channels=20, out_channels=50,\n",
    "            kernel_size=5, stride=1\n",
    "        )\n",
    "        # The math to compute this input dim is relatively\n",
    "        # simple. The formulas for H_out in both the pooling\n",
    "        # and the Conv are available on their respective pages.\n",
    "        self.dense_1 = nn.Linear(4 * 4 * 50, 500)\n",
    "        self.dense_2 = nn.Linear(500, 10)\n",
    "        \n",
    "    def forward(self, x):\n",
    "        x = self.max_pooling(F.relu(self.convolution_1(x)))\n",
    "        x = self.max_pooling(F.relu(self.convolution_2(x)))\n",
    "        # Flatten\n",
    "        x = x.view(-1, 4 * 4 * 50)\n",
    "        x = F.relu(self.dense_1(x))\n",
    "        x = F.log_softmax(self.dense_2(x), dim=1)\n",
    "        return x"
   ]
  },
  {
   "cell_type": "code",
   "execution_count": 11,
   "metadata": {},
   "outputs": [],
   "source": [
    "device = torch.device('cuda' if torch.cuda.is_available() else 'cpu')\n",
    "model = Network(input_channels=1).to(device)"
   ]
  },
  {
   "cell_type": "code",
   "execution_count": 12,
   "metadata": {},
   "outputs": [],
   "source": [
    "import torch.optim as optim\n",
    "\n",
    "loss_function = nn.CrossEntropyLoss()\n",
    "optimizer = optim.SGD(model.parameters(), lr=0.001, momentum=0.9)"
   ]
  },
  {
   "cell_type": "code",
   "execution_count": 13,
   "metadata": {},
   "outputs": [
    {
     "name": "stdout",
     "output_type": "stream",
     "text": [
      "[Epoch 1]\n",
      "\t[Batch 100] loss: 2.101159\n",
      "\t[Batch 200] loss: 0.894300\n",
      "\t[Batch 300] loss: 0.415393\n",
      "\t[Batch 400] loss: 0.343060\n",
      "\t[Batch 500] loss: 0.281044\n",
      "\t[Batch 600] loss: 0.250155\n",
      "\t[Batch 700] loss: 0.224295\n",
      "\t[Batch 800] loss: 0.225210\n",
      "\t[Batch 900] loss: 0.184700\n",
      "[Epoch 2]\n",
      "\t[Batch 100] loss: 0.172051\n",
      "\t[Batch 200] loss: 0.166591\n",
      "\t[Batch 300] loss: 0.141509\n",
      "\t[Batch 400] loss: 0.140838\n",
      "\t[Batch 500] loss: 0.137755\n",
      "\t[Batch 600] loss: 0.121129\n",
      "\t[Batch 700] loss: 0.132527\n",
      "\t[Batch 800] loss: 0.105698\n",
      "\t[Batch 900] loss: 0.116812\n",
      "[Epoch 3]\n",
      "\t[Batch 100] loss: 0.107528\n",
      "\t[Batch 200] loss: 0.090846\n",
      "\t[Batch 300] loss: 0.109447\n",
      "\t[Batch 400] loss: 0.093694\n",
      "\t[Batch 500] loss: 0.092258\n",
      "\t[Batch 600] loss: 0.089014\n",
      "\t[Batch 700] loss: 0.097224\n",
      "\t[Batch 800] loss: 0.073200\n",
      "\t[Batch 900] loss: 0.081627\n",
      "[Epoch 4]\n",
      "\t[Batch 100] loss: 0.085854\n",
      "\t[Batch 200] loss: 0.078553\n",
      "\t[Batch 300] loss: 0.068458\n",
      "\t[Batch 400] loss: 0.067084\n",
      "\t[Batch 500] loss: 0.068108\n",
      "\t[Batch 600] loss: 0.065419\n",
      "\t[Batch 700] loss: 0.069399\n",
      "\t[Batch 800] loss: 0.080481\n",
      "\t[Batch 900] loss: 0.065965\n",
      "[Epoch 5]\n",
      "\t[Batch 100] loss: 0.067769\n",
      "\t[Batch 200] loss: 0.063057\n",
      "\t[Batch 300] loss: 0.057506\n",
      "\t[Batch 400] loss: 0.060944\n",
      "\t[Batch 500] loss: 0.063097\n",
      "\t[Batch 600] loss: 0.057878\n",
      "\t[Batch 700] loss: 0.054606\n",
      "\t[Batch 800] loss: 0.058708\n",
      "\t[Batch 900] loss: 0.060125\n",
      "[Epoch 6]\n",
      "\t[Batch 100] loss: 0.060934\n",
      "\t[Batch 200] loss: 0.056048\n",
      "\t[Batch 300] loss: 0.048233\n",
      "\t[Batch 400] loss: 0.055156\n",
      "\t[Batch 500] loss: 0.054087\n",
      "\t[Batch 600] loss: 0.047103\n",
      "\t[Batch 700] loss: 0.051050\n",
      "\t[Batch 800] loss: 0.049591\n",
      "\t[Batch 900] loss: 0.051452\n",
      "[Epoch 7]\n",
      "\t[Batch 100] loss: 0.046676\n",
      "\t[Batch 200] loss: 0.045806\n",
      "\t[Batch 300] loss: 0.042078\n",
      "\t[Batch 400] loss: 0.058020\n",
      "\t[Batch 500] loss: 0.048822\n",
      "\t[Batch 600] loss: 0.045300\n",
      "\t[Batch 700] loss: 0.042555\n",
      "\t[Batch 800] loss: 0.038263\n",
      "\t[Batch 900] loss: 0.047923\n",
      "[Epoch 8]\n",
      "\t[Batch 100] loss: 0.037668\n",
      "\t[Batch 200] loss: 0.039474\n",
      "\t[Batch 300] loss: 0.044385\n",
      "\t[Batch 400] loss: 0.039609\n",
      "\t[Batch 500] loss: 0.037632\n",
      "\t[Batch 600] loss: 0.036498\n",
      "\t[Batch 700] loss: 0.045390\n",
      "\t[Batch 800] loss: 0.046380\n",
      "\t[Batch 900] loss: 0.042301\n",
      "[Epoch 9]\n",
      "\t[Batch 100] loss: 0.036330\n",
      "\t[Batch 200] loss: 0.038652\n",
      "\t[Batch 300] loss: 0.034303\n",
      "\t[Batch 400] loss: 0.030995\n",
      "\t[Batch 500] loss: 0.039247\n",
      "\t[Batch 600] loss: 0.036228\n",
      "\t[Batch 700] loss: 0.040465\n",
      "\t[Batch 800] loss: 0.036032\n",
      "\t[Batch 900] loss: 0.042628\n",
      "[Epoch 10]\n",
      "\t[Batch 100] loss: 0.034462\n",
      "\t[Batch 200] loss: 0.031993\n",
      "\t[Batch 300] loss: 0.030167\n",
      "\t[Batch 400] loss: 0.043933\n",
      "\t[Batch 500] loss: 0.029479\n",
      "\t[Batch 600] loss: 0.034394\n",
      "\t[Batch 700] loss: 0.033273\n",
      "\t[Batch 800] loss: 0.039502\n",
      "\t[Batch 900] loss: 0.026028\n"
     ]
    }
   ],
   "source": [
    "EPOCH_COUNT = 10\n",
    "STEPS_BETWEEN_PRINT = 100\n",
    "\n",
    "for epoch_index in range(EPOCH_COUNT):\n",
    "    print(f'[Epoch {epoch_index + 1}]')\n",
    "    running_loss = 0.0\n",
    "    for batch_index, data in enumerate(trainloader, 0):\n",
    "        inputs, labels = data[0].to(device), data[1].to(device)\n",
    "        optimizer.zero_grad()\n",
    "        outputs = model(inputs)\n",
    "        loss = loss_function(outputs, labels)\n",
    "        loss.backward()\n",
    "        optimizer.step()\n",
    "        running_loss += loss.item()\n",
    "        if batch_index % STEPS_BETWEEN_PRINT == STEPS_BETWEEN_PRINT - 1:\n",
    "            print('\\t[Batch {}] loss: {:3f}'.format(\n",
    "                batch_index + 1,\n",
    "                running_loss / STEPS_BETWEEN_PRINT\n",
    "            ))\n",
    "            running_loss = 0.0"
   ]
  },
  {
   "cell_type": "code",
   "execution_count": null,
   "metadata": {},
   "outputs": [],
   "source": []
  }
 ],
 "metadata": {
  "kernelspec": {
   "display_name": "Python 3",
   "language": "python",
   "name": "python3"
  },
  "language_info": {
   "codemirror_mode": {
    "name": "ipython",
    "version": 3
   },
   "file_extension": ".py",
   "mimetype": "text/x-python",
   "name": "python",
   "nbconvert_exporter": "python",
   "pygments_lexer": "ipython3",
   "version": "3.7.4"
  }
 },
 "nbformat": 4,
 "nbformat_minor": 2
}
