{
 "cells": [
  {
   "cell_type": "markdown",
   "metadata": {},
   "source": [
    "# MNIST Image Classification"
   ]
  },
  {
   "cell_type": "markdown",
   "metadata": {},
   "source": [
    "## Introduction"
   ]
  },
  {
   "cell_type": "markdown",
   "metadata": {},
   "source": [
    "I'm going to start with MNIST, because it's a dataset that I'm\n",
    "massively familiar with that. On top of that, it has a continuous\n",
    "distribution, so once I get comfortable with implementing a simple\n",
    "convolutional neural network, I'll develop an auto encoder, and a \n",
    "variational auto encoder. \n",
    "\n",
    "For this example, we will do a simple convolutional neural network\n",
    "in torch."
   ]
  },
  {
   "cell_type": "markdown",
   "metadata": {},
   "source": [
    "## TorchVision"
   ]
  },
  {
   "cell_type": "markdown",
   "metadata": {},
   "source": [
    "The torchvision package contains utilities for many tasks in computer vision. \n",
    "These include transformations, loading toy data sets, and popular model\n",
    "architectures. In this tutorial, I don't intend to use the last. I'll just load\n",
    "MNIST (a popular dataset of images of numbers) and play about with it. \n",
    "\n",
    "In addition, we will start by just training the model without transormations. While\n",
    "this tutorial focuses on models in torch, it should be fun to see how transforms impact\n",
    "MNIST. Up front, I'll hypothesize that any gains will be very much marginal. The MNIST\n",
    "data set is pretty free of noise when preprocessed properly."
   ]
  },
  {
   "cell_type": "code",
   "execution_count": null,
   "metadata": {},
   "outputs": [],
   "source": []
  }
 ],
 "metadata": {
  "kernelspec": {
   "display_name": "Python 3",
   "language": "python",
   "name": "python3"
  },
  "language_info": {
   "codemirror_mode": {
    "name": "ipython",
    "version": 3
   },
   "file_extension": ".py",
   "mimetype": "text/x-python",
   "name": "python",
   "nbconvert_exporter": "python",
   "pygments_lexer": "ipython3",
   "version": "3.7.4"
  }
 },
 "nbformat": 4,
 "nbformat_minor": 2
}
