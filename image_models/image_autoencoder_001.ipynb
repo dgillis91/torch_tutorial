{
 "cells": [
  {
   "cell_type": "markdown",
   "metadata": {},
   "source": [
    "# MNIST Auto Encoder"
   ]
  },
  {
   "cell_type": "markdown",
   "metadata": {},
   "source": [
    "## Introduction"
   ]
  },
  {
   "cell_type": "markdown",
   "metadata": {},
   "source": [
    "I'm doing this as a way to work up to a variational auto encoder. This tutorial\n",
    "will be slightly more brief than previous ones. For details on some of the things\n",
    "we do here, see `image_classifier_001.ipynb`. This covers *some* transforms. "
   ]
  },
  {
   "cell_type": "code",
   "execution_count": 1,
   "metadata": {},
   "outputs": [],
   "source": [
    "import torch\n",
    "import torch.nn as nn\n",
    "import torch.nn.functional as F\n",
    "import torch.optim as optim\n",
    "import torchvision\n",
    "import torchvision.transforms as transforms\n",
    "from torchvision.datasets import MNIST\n",
    "\n",
    "import numpy as np\n",
    "import matplotlib.pyplot as plt"
   ]
  },
  {
   "cell_type": "markdown",
   "metadata": {},
   "source": [
    "## Loading and Preprocessing"
   ]
  },
  {
   "cell_type": "markdown",
   "metadata": {},
   "source": [
    "There isn't much to do to prepare this data. We will just grab the test and\n",
    "train datasets and normalize them. Worth noting, we won't need the targets,\n",
    "but we don't need to do anything about that up front. "
   ]
  },
  {
   "cell_type": "code",
   "execution_count": 2,
   "metadata": {
    "scrolled": true
   },
   "outputs": [],
   "source": [
    "transform = transforms.Compose([\n",
    "    transforms.ToTensor()\n",
    "])\n",
    "trainset = MNIST(\n",
    "    root='./data/', train=True, \n",
    "    download=True, transform=transform\n",
    ")\n",
    "testset = MNIST(\n",
    "    root='./data', train=False,\n",
    "    download=True, transform=transform\n",
    ")"
   ]
  },
  {
   "cell_type": "markdown",
   "metadata": {},
   "source": [
    "We compute the mean and standard deviation to normalize this data. This is \n",
    "computed here so we learn the parameters of this distribution."
   ]
  },
  {
   "cell_type": "code",
   "execution_count": 3,
   "metadata": {},
   "outputs": [],
   "source": [
    "mu = trainset.data.float().mean() / 255\n",
    "sigma = trainset.data.float().std() / 255\n",
    "\n",
    "transform.transforms.append(\n",
    "    transforms.Normalize(\n",
    "        mean=(mu,), std=(sigma,)\n",
    "    )\n",
    ")"
   ]
  },
  {
   "cell_type": "code",
   "execution_count": 4,
   "metadata": {},
   "outputs": [
    {
     "data": {
      "text/plain": [
       "Dataset MNIST\n",
       "    Number of datapoints: 60000\n",
       "    Root location: ./data/\n",
       "    Split: Train\n",
       "    StandardTransform\n",
       "Transform: Compose(\n",
       "               ToTensor()\n",
       "               Normalize(mean=(tensor(0.1307),), std=(tensor(0.3081),))\n",
       "           )"
      ]
     },
     "execution_count": 4,
     "metadata": {},
     "output_type": "execute_result"
    }
   ],
   "source": [
    "trainset"
   ]
  },
  {
   "cell_type": "markdown",
   "metadata": {},
   "source": [
    "Create a multithreaded data loader."
   ]
  },
  {
   "cell_type": "code",
   "execution_count": 5,
   "metadata": {},
   "outputs": [],
   "source": [
    "BATCH_SIZE = 64\n",
    "trainloader = torch.utils.data.DataLoader(\n",
    "    trainset, batch_size=BATCH_SIZE,\n",
    "    shuffle=True, num_workers=2\n",
    ")\n",
    "testloader = torch.utils.data.DataLoader(\n",
    "    testset, batch_size=BATCH_SIZE,\n",
    "    shuffle=False, num_workers=2\n",
    ")"
   ]
  },
  {
   "cell_type": "code",
   "execution_count": 6,
   "metadata": {},
   "outputs": [
    {
     "name": "stderr",
     "output_type": "stream",
     "text": [
      "Clipping input data to the valid range for imshow with RGB data ([0..1] for floats or [0..255] for integers).\n"
     ]
    },
    {
     "data": {
      "image/png": "[encoded data removed]",
      "text/plain": [
       "<Figure size 432x288 with 1 Axes>"
      ]
     },
     "metadata": {
      "needs_background": "light"
     },
     "output_type": "display_data"
    }
   ],
   "source": [
    "dataiter = iter(trainloader)\n",
    "im, _ = dataiter.next()\n",
    "\n",
    "SHOW_COUNT = 5\n",
    "%matplotlib inline\n",
    "def image_show(image):\n",
    "    np_image = image.numpy()\n",
    "    plt.imshow(np.transpose(np_image, (1, 2, 0)))\n",
    "    plt.show()\n",
    "    \n",
    "image_show(\n",
    "    torchvision.utils.make_grid(im[0:SHOW_COUNT, :, :, :])\n",
    ")"
   ]
  },
  {
   "cell_type": "markdown",
   "metadata": {},
   "source": [
    "## Network Topology"
   ]
  },
  {
   "cell_type": "markdown",
   "metadata": {},
   "source": [
    "We are going to start with a simle feed forward network. As we get further\n",
    "on, we will build a model with convolutions. "
   ]
  },
  {
   "cell_type": "code",
   "execution_count": 7,
   "metadata": {},
   "outputs": [],
   "source": [
    "# Most of the tutorials I've seen use the nn.Sequential \n",
    "# style for this. That's fine for this toy problem; however,\n",
    "# it becomes limited as we move on to the VAE. \n",
    "class FFEncoder(nn.Module):\n",
    "    def __init__(self,\n",
    "                 input_dim=784,\n",
    "                 intermediate_dim_1=128,\n",
    "                 intermediate_dim_2=64,\n",
    "                 latent_dim=32):\n",
    "        super(FFEncoder, self).__init__()\n",
    "        self.intermediate_1 = nn.Linear(input_dim, intermediate_dim_1)\n",
    "        self.intermediate_2 = nn.Linear(intermediate_dim_1, intermediate_dim_2)\n",
    "        self.latent = nn.Linear(intermediate_dim_2, latent_dim)\n",
    "\n",
    "    def forward(self, x):\n",
    "        x = F.relu(self.intermediate_1(x))\n",
    "        x = F.relu(self.intermediate_2(x))\n",
    "        x = self.latent(x)\n",
    "        return x\n",
    "        \n",
    "\n",
    "class FFDecoder(nn.Module):\n",
    "    def __init__(self,\n",
    "                 input_dim=784,\n",
    "                 intermediate_dim_1=128,\n",
    "                 intermediate_dim_2=64,\n",
    "                 latent_dim=32):\n",
    "        super(FFDecoder, self).__init__()\n",
    "        self.intermediate_2 = nn.Linear(latent_dim, intermediate_dim_2)\n",
    "        self.intermediate_1 = nn.Linear(intermediate_dim_2, intermediate_dim_1)\n",
    "        self.output = nn.Linear(intermediate_dim_1, input_dim)\n",
    "        \n",
    "    def forward(self, x):\n",
    "        x = F.relu(self.intermediate_2(x))\n",
    "        x = F.relu(self.intermediate_1(x))\n",
    "        x = self.output(x)\n",
    "        return x\n",
    "        \n",
    "        \n",
    "class FeedForwardAutoEncoder(nn.Module):\n",
    "    def __init__(self,\n",
    "                 input_dim=784,\n",
    "                 intermediate_dim_1=128,\n",
    "                 intermediate_dim_2=64,\n",
    "                 latent_dim=32):\n",
    "        super(FeedForwardAutoEncoder, self).__init__()\n",
    "        self.encoder = FFEncoder(\n",
    "            input_dim, intermediate_dim_1, \n",
    "            intermediate_dim_2, latent_dim\n",
    "        )\n",
    "        self.decoder = FFDecoder(\n",
    "            input_dim, intermediate_dim_1,\n",
    "            intermediate_dim_2, latent_dim\n",
    "        )\n",
    "        \n",
    "    def forward(self, x):\n",
    "        x = self.encoder(x)\n",
    "        x = self.decoder(x)\n",
    "        return x"
   ]
  },
  {
   "cell_type": "code",
   "execution_count": 8,
   "metadata": {},
   "outputs": [
    {
     "name": "stdout",
     "output_type": "stream",
     "text": [
      "FeedForwardAutoEncoder(\n",
      "  (encoder): FFEncoder(\n",
      "    (intermediate_1): Linear(in_features=784, out_features=128, bias=True)\n",
      "    (intermediate_2): Linear(in_features=128, out_features=64, bias=True)\n",
      "    (latent): Linear(in_features=64, out_features=32, bias=True)\n",
      "  )\n",
      "  (decoder): FFDecoder(\n",
      "    (intermediate_2): Linear(in_features=32, out_features=64, bias=True)\n",
      "    (intermediate_1): Linear(in_features=64, out_features=128, bias=True)\n",
      "    (output): Linear(in_features=128, out_features=784, bias=True)\n",
      "  )\n",
      ")\n"
     ]
    }
   ],
   "source": [
    "device = torch.device('cuda' if torch.cuda.is_available() else 'cpu')\n",
    "model = FeedForwardAutoEncoder().to(device)\n",
    "print(model)"
   ]
  },
  {
   "cell_type": "code",
   "execution_count": 9,
   "metadata": {},
   "outputs": [],
   "source": [
    "LEARNING_RATE = 0.001\n",
    "loss_function = nn.MSELoss()\n",
    "optimizer = optim.Adam(model.parameters(), lr=LEARNING_RATE)"
   ]
  },
  {
   "cell_type": "code",
   "execution_count": 10,
   "metadata": {
    "scrolled": false
   },
   "outputs": [
    {
     "name": "stdout",
     "output_type": "stream",
     "text": [
      "[Epoch 1]\n",
      "\t[Batch 300] loss: 0.465992\n",
      "\t[Batch 600] loss: 0.280379\n",
      "\t[Batch 900] loss: 0.241278\n",
      "[Epoch 2]\n",
      "\t[Batch 300] loss: 0.214224\n",
      "\t[Batch 600] loss: 0.199321\n",
      "\t[Batch 900] loss: 0.189081\n",
      "[Epoch 3]\n",
      "\t[Batch 300] loss: 0.178890\n",
      "\t[Batch 600] loss: 0.174477\n",
      "\t[Batch 900] loss: 0.168874\n",
      "[Epoch 4]\n",
      "\t[Batch 300] loss: 0.165505\n",
      "\t[Batch 600] loss: 0.162153\n",
      "\t[Batch 900] loss: 0.159115\n",
      "[Epoch 5]\n",
      "\t[Batch 300] loss: 0.156796\n",
      "\t[Batch 600] loss: 0.155604\n",
      "\t[Batch 900] loss: 0.154193\n",
      "[Epoch 6]\n",
      "\t[Batch 300] loss: 0.152420\n",
      "\t[Batch 600] loss: 0.150149\n",
      "\t[Batch 900] loss: 0.149441\n",
      "[Epoch 7]\n",
      "\t[Batch 300] loss: 0.147356\n",
      "\t[Batch 600] loss: 0.146270\n",
      "\t[Batch 900] loss: 0.145658\n",
      "[Epoch 8]\n",
      "\t[Batch 300] loss: 0.144169\n",
      "\t[Batch 600] loss: 0.143261\n",
      "\t[Batch 900] loss: 0.142762\n",
      "[Epoch 9]\n",
      "\t[Batch 300] loss: 0.142031\n",
      "\t[Batch 600] loss: 0.141275\n",
      "\t[Batch 900] loss: 0.140448\n",
      "[Epoch 10]\n",
      "\t[Batch 300] loss: 0.139587\n",
      "\t[Batch 600] loss: 0.139754\n",
      "\t[Batch 900] loss: 0.139231\n",
      "[Epoch 11]\n",
      "\t[Batch 300] loss: 0.138950\n",
      "\t[Batch 600] loss: 0.137751\n",
      "\t[Batch 900] loss: 0.137320\n",
      "[Epoch 12]\n",
      "\t[Batch 300] loss: 0.137151\n",
      "\t[Batch 600] loss: 0.136431\n",
      "\t[Batch 900] loss: 0.136391\n",
      "[Epoch 13]\n",
      "\t[Batch 300] loss: 0.135413\n",
      "\t[Batch 600] loss: 0.135432\n",
      "\t[Batch 900] loss: 0.134855\n",
      "[Epoch 14]\n",
      "\t[Batch 300] loss: 0.133907\n",
      "\t[Batch 600] loss: 0.133729\n",
      "\t[Batch 900] loss: 0.134139\n",
      "[Epoch 15]\n",
      "\t[Batch 300] loss: 0.133517\n",
      "\t[Batch 600] loss: 0.132247\n",
      "\t[Batch 900] loss: 0.133123\n",
      "[Epoch 16]\n",
      "\t[Batch 300] loss: 0.132534\n",
      "\t[Batch 600] loss: 0.131870\n",
      "\t[Batch 900] loss: 0.131486\n",
      "[Epoch 17]\n",
      "\t[Batch 300] loss: 0.131193\n",
      "\t[Batch 600] loss: 0.130926\n",
      "\t[Batch 900] loss: 0.130552\n",
      "[Epoch 18]\n",
      "\t[Batch 300] loss: 0.130467\n",
      "\t[Batch 600] loss: 0.130263\n",
      "\t[Batch 900] loss: 0.129330\n",
      "[Epoch 19]\n",
      "\t[Batch 300] loss: 0.129528\n",
      "\t[Batch 600] loss: 0.128941\n",
      "\t[Batch 900] loss: 0.129081\n",
      "[Epoch 20]\n",
      "\t[Batch 300] loss: 0.128379\n",
      "\t[Batch 600] loss: 0.128706\n",
      "\t[Batch 900] loss: 0.127765\n"
     ]
    }
   ],
   "source": [
    "EPOCH_COUNT = 20\n",
    "STEPS_BETWEEN_PRINT = 300\n",
    "\n",
    "for epoch_index in range(EPOCH_COUNT):\n",
    "    print(f'[Epoch {epoch_index + 1}]')\n",
    "    running_loss = 0.0\n",
    "    for batch_index, data in enumerate(trainloader, 0):\n",
    "        # We are just moving the inputs. Would be wasteful to\n",
    "        # move targets\n",
    "        inputs = data[0].to(device)\n",
    "        inputs = inputs.view(-1, 784)\n",
    "        optimizer.zero_grad()\n",
    "        outputs = model(inputs)\n",
    "        loss = loss_function(outputs, inputs)\n",
    "        loss.backward()\n",
    "        optimizer.step()\n",
    "        running_loss += loss.item()\n",
    "        if batch_index % STEPS_BETWEEN_PRINT == STEPS_BETWEEN_PRINT - 1:\n",
    "            print('\\t[Batch {}] loss: {:3f}'.format(\n",
    "                batch_index + 1,\n",
    "                running_loss / STEPS_BETWEEN_PRINT\n",
    "            ))\n",
    "            running_loss = 0.0"
   ]
  },
  {
   "cell_type": "markdown",
   "metadata": {},
   "source": [
    "## Test"
   ]
  },
  {
   "cell_type": "markdown",
   "metadata": {},
   "source": [
    "We can write a simple bit of code to test the train and validation data. \n",
    "It's easy to see that we overfit the data slightly. There are a few \n",
    "solutions to this. One is to use rotations. Because I haven't done \n",
    "this before, I'm going to try it and see what we get. The others are\n",
    "to train for less time or use dropout."
   ]
  },
  {
   "cell_type": "code",
   "execution_count": 11,
   "metadata": {},
   "outputs": [
    {
     "name": "stderr",
     "output_type": "stream",
     "text": [
      "Clipping input data to the valid range for imshow with RGB data ([0..1] for floats or [0..255] for integers).\n"
     ]
    },
    {
     "name": "stdout",
     "output_type": "stream",
     "text": [
      "torch.Size([64, 784])\n"
     ]
    },
    {
     "data": {
      "image/png": "[encoded data removed]",
      "text/plain": [
       "<Figure size 432x288 with 1 Axes>"
      ]
     },
     "metadata": {
      "needs_background": "light"
     },
     "output_type": "display_data"
    },
    {
     "name": "stderr",
     "output_type": "stream",
     "text": [
      "Clipping input data to the valid range for imshow with RGB data ([0..1] for floats or [0..255] for integers).\n"
     ]
    },
    {
     "data": {
      "image/png": "[encoded data removed]",
      "text/plain": [
       "<Figure size 432x288 with 1 Axes>"
      ]
     },
     "metadata": {
      "needs_background": "light"
     },
     "output_type": "display_data"
    }
   ],
   "source": [
    "dataiter = iter(trainloader)\n",
    "im, _ = dataiter.next()\n",
    "\n",
    "model.eval()\n",
    "with torch.no_grad():\n",
    "    data = im.to(device)\n",
    "    output = model(data.view(-1, 784))\n",
    "    print(output.size())\n",
    "\n",
    "SHOW_COUNT = 10\n",
    "%matplotlib inline\n",
    "def image_show(image):\n",
    "    np_image = image.numpy()\n",
    "    plt.imshow(np.transpose(np_image, (1, 2, 0)))\n",
    "    plt.show()\n",
    "    \n",
    "image_show(\n",
    "    torchvision.utils.make_grid(im[0:SHOW_COUNT, :, :, :])\n",
    ")\n",
    "reshape_output = output.cpu().reshape(BATCH_SIZE, 1, 28, 28)\n",
    "image_show(\n",
    "    torchvision.utils.make_grid(reshape_output[0:SHOW_COUNT, :, :, :])\n",
    ")"
   ]
  },
  {
   "cell_type": "code",
   "execution_count": null,
   "metadata": {},
   "outputs": [],
   "source": []
  }
 ],
 "metadata": {
  "kernelspec": {
   "display_name": "Python 3",
   "language": "python",
   "name": "python3"
  },
  "language_info": {
   "codemirror_mode": {
    "name": "ipython",
    "version": 3
   },
   "file_extension": ".py",
   "mimetype": "text/x-python",
   "name": "python",
   "nbconvert_exporter": "python",
   "pygments_lexer": "ipython3",
   "version": "3.7.4"
  }
 },
 "nbformat": 4,
 "nbformat_minor": 2
}
